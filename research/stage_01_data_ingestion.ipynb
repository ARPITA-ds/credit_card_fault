{
 "cells": [
  {
   "cell_type": "code",
   "execution_count": 2,
   "metadata": {},
   "outputs": [
    {
     "data": {
      "text/plain": [
       "'c:\\\\project\\\\credit_card_fault'"
      ]
     },
     "execution_count": 2,
     "metadata": {},
     "output_type": "execute_result"
    }
   ],
   "source": [
    "import os \n",
    "\n",
    "os.chdir(\"..\")\n",
    "os.getcwd()"
   ]
  },
  {
   "cell_type": "code",
   "execution_count": 3,
   "metadata": {},
   "outputs": [],
   "source": [
    "import os \n",
    "from datetime import datetime\n",
    "\n",
    "\n",
    "def get_current_time_stamp():\n",
    "    return f\"{datetime.now().strftime('%Y%m%d%H%M%S')}\"\n",
    "\n",
    "\n",
    "ROOT_DIR = os.getcwd()  # to get current working directory\n",
    "CURRENT_TIME_STAMP = get_current_time_stamp()\n",
    "# config constants\n",
    "CONFIG_DIR = os.path.join(ROOT_DIR, 'config')\n",
    "CONFIG_FILE_NAME = \"config.yaml\"\n",
    "CONFIG_FILE_PATH = os.path.join(CONFIG_DIR, CONFIG_FILE_NAME)"
   ]
  },
  {
   "cell_type": "code",
   "execution_count": 4,
   "metadata": {},
   "outputs": [
    {
     "name": "stdout",
     "output_type": "stream",
     "text": [
      "c:\\project\\credit_card_fault\\config\\config.yaml\n"
     ]
    }
   ],
   "source": [
    "print(CONFIG_FILE_PATH)"
   ]
  },
  {
   "cell_type": "code",
   "execution_count": 5,
   "metadata": {},
   "outputs": [],
   "source": [
    "from pathlib import Path\n",
    "\n",
    "from pydantic import BaseModel, DirectoryPath, FilePath\n",
    "\n",
    "class DataIngestionConfig(BaseModel):\n",
    "    dataset_download_id: str\n",
    "    raw_data_file_path : Path\n",
    "    ingested_train_file_path :Path\n",
    "    ingested_test_data_path : Path\n",
    "    \n",
    "class  TrainingPipelineConfig(BaseModel):\n",
    "    artifact_dir :DirectoryPath \n",
    "    pipeline_name : str"
   ]
  },
  {
   "cell_type": "code",
   "execution_count": 11,
   "metadata": {},
   "outputs": [],
   "source": [
    "from src.creditcard.utils import *"
   ]
  },
  {
   "cell_type": "code",
   "execution_count": null,
   "metadata": {},
   "outputs": [],
   "source": [
    "class Configuration:\n",
    "\n",
    "    def __init__(self,\n",
    "                 config_file_path: Path = CONFIG_FILE_PATH) -> None:\n",
    "        try:\n",
    "            self.config_info = read_yaml(path_to_yaml=Path(config_file_path))\n",
    "            self.pipeline_config = self.get_training_pipeline_config()\n",
    "            self.time_stamp = CURRENT_TIME_STAMP\n",
    "\n",
    "        except Exception as e:\n",
    "            raise App_Exception(e, sys) from e\n",
    "\n",
    "    def get_data_ingestion_config(self) -> DataIngestionConfig:\n",
    "        \n",
    "        try:\n",
    "            data_ingestion_info = self.config_info.data_ingestion_config\n",
    "            artifact_dir = self.pipeline_config.artifact_dir\n",
    "            dataset_download_id = data_ingestion_info.dataset_download_id\n",
    "            data_ingestion_dir_name = data_ingestion_info.ingestion_dir\n",
    "            raw_data_dir = data_ingestion_info.raw_data_dir\n",
    "            raw_file_name = data_ingestion_info.dataset_download_file_name\n",
    "            data_ingestion_dir = os.path.join(artifact_dir, data_ingestion_dir_name)\n",
    "            raw_data_file_path  = os.path.join(data_ingestion_dir, raw_data_dir, raw_file_name)\n",
    "            ingested_dir_name = data_ingestion_info.ingested_dir\n",
    "            ingested_dir_path = os.path.join(data_ingestion_dir,ingested_dir_name)\n",
    "            \n",
    "            ingested_train_file_path  = os.path.join(ingested_dir_path, data_ingestion_info.ingested_train_file)\n",
    "            ingested_test_file_path = os.path.join(ingested_dir_path, data_ingestion_info.ingested_test_file)\n",
    "            create_directories([os.path.dirname(raw_data_file_path), os.path.dirname(ingested_train_file_path)])\n",
    "            \n",
    "            data_ingestion_config = DataIngestionConfig(dataset_download_id = dataset_download_id , \n",
    "                                                        raw_data_file_path = raw_data_file_path , \n",
    "                                                        ingested_train_file_path = ingested_train_file_path , \n",
    "                                                        ingested_test_data_path  = ingested_test_file_path)\n",
    "            \n",
    "            return data_ingestion_config\n",
    "        except Exception as e:\n",
    "            raise App_Exception(e, sys) from e\n",
    "    def get_training_pipeline_config(self) -> TrainingPipelineConfig:\n",
    "        try:\n",
    "            training_config = self.config_info.training_pipeline_config\n",
    "            training_pipeline_name = training_config.pipeline_name\n",
    "            training_artifacts = os.path.join(ROOT_DIR, training_config.artifact_dir)\n",
    "            create_directories(path_to_directories = [training_artifacts])\n",
    "            training_pipeline_config =  TrainingPipelineConfig(artifact_dir=training_artifacts ,pipeline_name=training_pipeline_name)\n",
    "            logger.info(f\"Training pipeline config: {training_pipeline_config}\")\n",
    "            return training_pipeline_config\n",
    "        except Exception as e:\n",
    "            raise App_Exception(e, sys) from e"
   ]
  },
  {
   "cell_type": "code",
   "execution_count": null,
   "metadata": {},
   "outputs": [],
   "source": [
    "\n",
    "                 "
   ]
  }
 ],
 "metadata": {
  "kernelspec": {
   "display_name": "Python 3",
   "language": "python",
   "name": "python3"
  },
  "language_info": {
   "codemirror_mode": {
    "name": "ipython",
    "version": 3
   },
   "file_extension": ".py",
   "mimetype": "text/x-python",
   "name": "python",
   "nbconvert_exporter": "python",
   "pygments_lexer": "ipython3",
   "version": "3.9.7"
  },
  "orig_nbformat": 4
 },
 "nbformat": 4,
 "nbformat_minor": 2
}
