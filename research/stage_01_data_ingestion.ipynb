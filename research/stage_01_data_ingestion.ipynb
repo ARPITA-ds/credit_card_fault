{
 "cells": [
  {
   "cell_type": "code",
   "execution_count": 1,
   "metadata": {},
   "outputs": [
    {
     "data": {
      "text/plain": [
       "'c:\\\\project\\\\credit_card_fault'"
      ]
     },
     "execution_count": 1,
     "metadata": {},
     "output_type": "execute_result"
    }
   ],
   "source": [
    "import os \n",
    "\n",
    "os.chdir(\"..\")\n",
    "os.getcwd()"
   ]
  },
  {
   "cell_type": "code",
   "execution_count": 2,
   "metadata": {},
   "outputs": [],
   "source": [
    "import os \n",
    "from datetime import datetime\n",
    "\n",
    "\n",
    "def get_current_time_stamp():\n",
    "    return f\"{datetime.now().strftime('%Y%m%d%H%M%S')}\"\n",
    "\n",
    "\n",
    "ROOT_DIR = os.getcwd()  # to get current working directory\n",
    "CURRENT_TIME_STAMP = get_current_time_stamp()\n",
    "# config constants\n",
    "CONFIG_DIR = os.path.join(ROOT_DIR, 'configs')\n",
    "CONFIG_FILE_NAME = \"config.yaml\"\n",
    "CONFIG_FILE_PATH = os.path.join(CONFIG_DIR, CONFIG_FILE_NAME)"
   ]
  },
  {
   "cell_type": "code",
   "execution_count": 3,
   "metadata": {},
   "outputs": [
    {
     "name": "stdout",
     "output_type": "stream",
     "text": [
      "c:\\project\\credit_card_fault\\configs\\config.yaml\n"
     ]
    }
   ],
   "source": [
    "print(CONFIG_FILE_PATH)"
   ]
  },
  {
   "cell_type": "code",
   "execution_count": 4,
   "metadata": {},
   "outputs": [],
   "source": [
    "from pathlib import Path\n",
    "\n",
    "from pydantic import BaseModel, DirectoryPath, FilePath\n",
    "\n",
    "class DataIngestionConfig(BaseModel):\n",
    "    dataset_download_id: str\n",
    "    raw_data_file_path : Path\n",
    "    ingested_train_file_path :Path\n",
    "    ingested_test_data_path : Path\n",
    "    \n",
    "class  TrainingPipelineConfig(BaseModel):\n",
    "    artifact_dir :DirectoryPath \n",
    "    pipeline_name : str"
   ]
  },
  {
   "cell_type": "code",
   "execution_count": 5,
   "metadata": {},
   "outputs": [],
   "source": [
    "from src.creditcard.exception import *"
   ]
  },
  {
   "cell_type": "code",
   "execution_count": 6,
   "metadata": {},
   "outputs": [],
   "source": [
    "from src.creditcard.logger import *"
   ]
  },
  {
   "cell_type": "code",
   "execution_count": 7,
   "metadata": {},
   "outputs": [
    {
     "ename": "ModuleNotFoundError",
     "evalue": "No module named 'creditcard'",
     "output_type": "error",
     "traceback": [
      "\u001b[1;31m---------------------------------------------------------------------------\u001b[0m",
      "\u001b[1;31mModuleNotFoundError\u001b[0m                       Traceback (most recent call last)",
      "\u001b[1;32m~\\AppData\\Local\\Temp/ipykernel_2944/3698917341.py\u001b[0m in \u001b[0;36m<module>\u001b[1;34m\u001b[0m\n\u001b[1;32m----> 1\u001b[1;33m \u001b[1;32mfrom\u001b[0m \u001b[0msrc\u001b[0m\u001b[1;33m.\u001b[0m\u001b[0mcreditcard\u001b[0m\u001b[1;33m.\u001b[0m\u001b[0mutils\u001b[0m\u001b[1;33m.\u001b[0m\u001b[0mcommon\u001b[0m \u001b[1;32mimport\u001b[0m \u001b[0mread_yaml\u001b[0m\u001b[1;33m,\u001b[0m\u001b[0mcreate_directories\u001b[0m\u001b[1;33m\u001b[0m\u001b[1;33m\u001b[0m\u001b[0m\n\u001b[0m",
      "\u001b[1;32mc:\\project\\credit_card_fault\\src\\creditcard\\utils\\__init__.py\u001b[0m in \u001b[0;36m<module>\u001b[1;34m\u001b[0m\n\u001b[1;32m----> 1\u001b[1;33m \u001b[1;32mfrom\u001b[0m \u001b[0mcreditcard\u001b[0m\u001b[1;33m.\u001b[0m\u001b[0mutils\u001b[0m\u001b[1;33m.\u001b[0m\u001b[0mcommon\u001b[0m \u001b[1;32mimport\u001b[0m \u001b[1;33m*\u001b[0m\u001b[1;33m\u001b[0m\u001b[1;33m\u001b[0m\u001b[0m\n\u001b[0m",
      "\u001b[1;31mModuleNotFoundError\u001b[0m: No module named 'creditcard'"
     ]
    }
   ],
   "source": [
    "from src.creditcard.utils.common import read_yaml,create_directories"
   ]
  },
  {
   "cell_type": "code",
   "execution_count": null,
   "metadata": {},
   "outputs": [],
   "source": [
    "config_info = read_yaml(path_to_yaml = Path(CONFIG_FILE_PATH))"
   ]
  },
  {
   "cell_type": "code",
   "execution_count": null,
   "metadata": {},
   "outputs": [],
   "source": [
    "print(config_info)"
   ]
  },
  {
   "cell_type": "code",
   "execution_count": null,
   "metadata": {},
   "outputs": [],
   "source": [
    "data_ingestion_info = config_info.data_ingestion_config"
   ]
  },
  {
   "cell_type": "code",
   "execution_count": null,
   "metadata": {},
   "outputs": [],
   "source": [
    "training_config = config_info.training_pipeline_config\n",
    "print(training_config)"
   ]
  },
  {
   "cell_type": "code",
   "execution_count": null,
   "metadata": {},
   "outputs": [],
   "source": [
    "training_artifacts = os.path.join(ROOT_DIR, training_config.artifact_dir)\n",
    "print(training_artifacts)"
   ]
  },
  {
   "cell_type": "code",
   "execution_count": null,
   "metadata": {},
   "outputs": [],
   "source": [
    "create_directories(path_to_directories = [training_artifacts])"
   ]
  },
  {
   "cell_type": "code",
   "execution_count": null,
   "metadata": {},
   "outputs": [],
   "source": [
    "print(data_ingestion_info)"
   ]
  },
  {
   "cell_type": "code",
   "execution_count": null,
   "metadata": {},
   "outputs": [],
   "source": [
    "dataset_download_id = data_ingestion_info.dataset_download_id\n",
    "print(dataset_download_id)"
   ]
  },
  {
   "cell_type": "code",
   "execution_count": null,
   "metadata": {},
   "outputs": [],
   "source": [
    "data_ingestion_dir_name = data_ingestion_info.ingestion_dir\n",
    "print(data_ingestion_dir_name)"
   ]
  },
  {
   "cell_type": "code",
   "execution_count": null,
   "metadata": {},
   "outputs": [],
   "source": [
    "raw_data_dir = data_ingestion_info.raw_data_dir\n",
    "print(raw_data_dir)"
   ]
  },
  {
   "cell_type": "code",
   "execution_count": null,
   "metadata": {},
   "outputs": [],
   "source": [
    "raw_file_name = data_ingestion_info.dataset_download_file_name\n",
    "print(raw_file_name)"
   ]
  },
  {
   "cell_type": "code",
   "execution_count": null,
   "metadata": {},
   "outputs": [],
   "source": [
    "data_ingestion_dir = os.path.join(training_artifacts,data_ingestion_dir_name)\n",
    "print(data_ingestion_dir)"
   ]
  },
  {
   "cell_type": "code",
   "execution_count": null,
   "metadata": {},
   "outputs": [],
   "source": [
    "raw_data_file_path  = os.path.join(data_ingestion_dir, raw_data_dir, raw_file_name)\n",
    "print(raw_data_file_path)"
   ]
  },
  {
   "cell_type": "code",
   "execution_count": null,
   "metadata": {},
   "outputs": [],
   "source": [
    "ingested_dir_name = data_ingestion_info.ingested_dir\n",
    "print(ingested_dir_name)\n",
    "           "
   ]
  },
  {
   "cell_type": "code",
   "execution_count": null,
   "metadata": {},
   "outputs": [],
   "source": [
    "ingested_dir_path = os.path.join(data_ingestion_dir,ingested_dir_name)\n",
    "print(ingested_dir_path)"
   ]
  },
  {
   "cell_type": "code",
   "execution_count": null,
   "metadata": {},
   "outputs": [],
   "source": [
    "ingested_train_file_path  = os.path.join(ingested_dir_path, data_ingestion_info.ingested_train_file)\n",
    "ingested_test_file_path = os.path.join(ingested_dir_path, data_ingestion_info.ingested_test_file)\n",
    "print(ingested_train_file_path)\n",
    "print(ingested_test_file_path)"
   ]
  },
  {
   "cell_type": "code",
   "execution_count": null,
   "metadata": {},
   "outputs": [],
   "source": [
    "create_directories([os.path.dirname(raw_data_file_path), os.path.dirname(ingested_train_file_path)])"
   ]
  },
  {
   "cell_type": "code",
   "execution_count": null,
   "metadata": {},
   "outputs": [],
   "source": [
    "class Configuration:\n",
    "\n",
    "    def __init__(self,\n",
    "                 config_file_path: Path = CONFIG_FILE_PATH) -> None:\n",
    "        try:\n",
    "            self.config_info = read_yaml(path_to_yaml=Path(config_file_path))\n",
    "            self.pipeline_config = self.get_training_pipeline_config()\n",
    "            self.time_stamp = CURRENT_TIME_STAMP\n",
    "\n",
    "        except Exception as e:\n",
    "            raise AppException(e, sys) from e\n",
    "\n",
    "    def get_data_ingestion_config(self) -> DataIngestionConfig:\n",
    "        \n",
    "        try:\n",
    "            data_ingestion_info = self.config_info.data_ingestion_config\n",
    "            artifact_dir = self.pipeline_config.artifact_dir\n",
    "            dataset_download_id = data_ingestion_info.dataset_download_id\n",
    "            data_ingestion_dir_name = data_ingestion_info.ingestion_dir\n",
    "            raw_data_dir = data_ingestion_info.raw_data_dir\n",
    "            raw_file_name = data_ingestion_info.dataset_download_file_name\n",
    "            data_ingestion_dir = os.path.join(artifact_dir, data_ingestion_dir_name)\n",
    "            raw_data_file_path  = os.path.join(data_ingestion_dir, raw_data_dir, raw_file_name)\n",
    "            ingested_dir_name = data_ingestion_info.ingested_dir\n",
    "            ingested_dir_path = os.path.join(data_ingestion_dir,ingested_dir_name)\n",
    "            \n",
    "            ingested_train_file_path  = os.path.join(ingested_dir_path, data_ingestion_info.ingested_train_file)\n",
    "            ingested_test_file_path = os.path.join(ingested_dir_path, data_ingestion_info.ingested_test_file)\n",
    "            create_directories([os.path.dirname(raw_data_file_path), os.path.dirname(ingested_train_file_path)])\n",
    "            \n",
    "            data_ingestion_config = DataIngestionConfig(dataset_download_id = dataset_download_id , \n",
    "                                                        raw_data_file_path = raw_data_file_path , \n",
    "                                                        ingested_train_file_path = ingested_train_file_path , \n",
    "                                                        ingested_test_data_path  = ingested_test_file_path)\n",
    "            \n",
    "            return data_ingestion_config\n",
    "        except Exception as e:\n",
    "            raise AppException(e, sys) from e\n",
    "            \n",
    "    def get_training_pipeline_config(self) -> TrainingPipelineConfig:\n",
    "        try:\n",
    "            training_config = self.config_info.training_pipeline_config\n",
    "            training_pipeline_name = training_config.pipeline_name\n",
    "            training_artifacts = os.path.join(ROOT_DIR, training_config.artifact_dir)\n",
    "            create_directories(path_to_directories = [training_artifacts])\n",
    "            training_pipeline_config =  TrainingPipelineConfig(artifact_dir=training_artifacts ,pipeline_name=training_pipeline_name)\n",
    "            logger.info(f\"Training pipeline config: {training_pipeline_config}\")\n",
    "            return training_pipeline_config\n",
    "        except Exception as e:\n",
    "            raise AppException(e, sys) from e"
   ]
  },
  {
   "cell_type": "code",
   "execution_count": null,
   "metadata": {},
   "outputs": [],
   "source": [
    "from pathlib import Path\n",
    "\n",
    "from pydantic import BaseModel, DirectoryPath, FilePath\n",
    "\n",
    "class DataIngestionArtifact(BaseModel):\n",
    "    train_file_path : FilePath\n",
    "    test_file_path : FilePath \n"
   ]
  },
  {
   "cell_type": "code",
   "execution_count": null,
   "metadata": {},
   "outputs": [],
   "source": [
    "import pandas as pd"
   ]
  },
  {
   "cell_type": "code",
   "execution_count": null,
   "metadata": {},
   "outputs": [],
   "source": [
    "raw_data_frame = pd.read_csv(dataset_download_id)\n",
    "           "
   ]
  },
  {
   "cell_type": "code",
   "execution_count": null,
   "metadata": {},
   "outputs": [],
   "source": [
    "raw_data_frame.head(3)"
   ]
  },
  {
   "cell_type": "code",
   "execution_count": null,
   "metadata": {},
   "outputs": [],
   "source": [
    "raw_data_frame.to_csv(raw_data_file_path , index=False) # writting file to a new path"
   ]
  },
  {
   "cell_type": "code",
   "execution_count": null,
   "metadata": {},
   "outputs": [],
   "source": [
    "from sklearn.model_selection import StratifiedShuffleSplit"
   ]
  },
  {
   "cell_type": "code",
   "execution_count": null,
   "metadata": {},
   "outputs": [],
   "source": [
    "strat_train_set = None\n",
    "strat_test_set = None\n",
    "\n",
    "split = StratifiedShuffleSplit(n_splits=1, test_size=0.2, random_state=42)"
   ]
  },
  {
   "cell_type": "code",
   "execution_count": null,
   "metadata": {},
   "outputs": [],
   "source": [
    "for train_index, test_index in split.split(raw_data_frame, raw_data_frame[\"default.payment.next.month\"]):\n",
    "    #strat_train_set = raw_data_frame.loc[train_index]\n",
    "    #strat_test_set = raw_data_frame.loc[test_index]\n",
    "    print(train_index)\n",
    "    print(test_index)"
   ]
  },
  {
   "cell_type": "code",
   "execution_count": null,
   "metadata": {},
   "outputs": [],
   "source": [
    "for train_index, test_index in split.split(raw_data_frame, raw_data_frame[\"default.payment.next.month\"]):\n",
    "    strat_train_set = raw_data_frame.loc[train_index]\n",
    "    strat_test_set = raw_data_frame.loc[test_index]\n",
    "    "
   ]
  },
  {
   "cell_type": "code",
   "execution_count": null,
   "metadata": {},
   "outputs": [],
   "source": [
    "print(strat_train_set)"
   ]
  },
  {
   "cell_type": "code",
   "execution_count": null,
   "metadata": {},
   "outputs": [],
   "source": [
    "print(strat_test_set)"
   ]
  },
  {
   "cell_type": "code",
   "execution_count": null,
   "metadata": {},
   "outputs": [],
   "source": [
    "\n",
    "from src.creditcard.entity.config_entity import DataIngestionConfig\n",
    "from src.creditcard.entity.artifact_entity import DataIngestionArtifact\n",
    "import sys,os\n",
    "from src.creditcard.exception import AppException\n",
    "from src.creditcard.logger import logger\n",
    "import numpy as np\n",
    "import pandas as pd\n",
    "#import gdown\n",
    "from sklearn.model_selection import StratifiedShuffleSplit\n",
    "from src.creditcard.constants import *\n",
    "\n",
    "class DataIngestion:\n",
    "    \"\"\"Stage 1 data ingestion : Download dataset, split data into train and test, export to pickle and mongoDb\n",
    "     Input :\n",
    "     DataIngestionConfig =\n",
    "\n",
    "     output :\n",
    "       DataIngestionArtifact(train_file_path,\n",
    "                            test_file_path)\n",
    "        top download the dataset from kaggle we use kaggle api authentication\n",
    "        reference : https://github.com/Kaggle/kaggle-api for more details on kaggle api\"\"\"\n",
    "\n",
    "    def __init__(self, data_ingestion_config_info: DataIngestionConfig):\n",
    "        try:\n",
    "            self.data_ingestion_config = data_ingestion_config_info\n",
    "            logger.info(f\"{'>>' * 20}Experiment : base Model {'<<' * 20}\")\n",
    "        except Exception as e:\n",
    "            raise AppException(e, sys)\n",
    "        \n",
    "    def download_data(self,dataset_download_id: str, raw_data_file_path: str) -> str:\n",
    "       \n",
    "        try:\n",
    "            # extraction remote url to download dataset\n",
    "            logger.info(f\"Downloading dataset from github\")\n",
    "            raw_data_frame = pd.read_csv(dataset_download_id)\n",
    "            raw_data_frame.to_csv(raw_data_file_path , index=False)\n",
    "            logger.info(\"Dataset unzipped successfully\")\n",
    "\n",
    "            return True\n",
    "\n",
    "        except Exception as e:\n",
    "            raise AppException(e, sys) from e\n",
    "\n",
    "    def split_data_as_train_test(self) -> DataIngestionArtifact:\n",
    "        try:\n",
    "            logger.info(f\"{'>>' * 20}Data splitting.{'<<' * 20}\")\n",
    "            raw_data_file_path = self.data_ingestion_config.raw_data_file_path\n",
    "            train_file_path = self.data_ingestion_config.ingested_train_file_path\n",
    "            test_file_path = self.data_ingestion_config.ingested_test_data_path\n",
    "\n",
    "            logger.info(f\"Reading csv file: [{raw_data_file_path}]\")\n",
    "            raw_data_frame = pd.read_csv(raw_data_file_path)\n",
    "\n",
    "            logger.info(\"Splitting data into train and test\")\n",
    "            strat_train_set = None\n",
    "            strat_test_set = None\n",
    "\n",
    "            split = StratifiedShuffleSplit(n_splits=1, test_size=0.2, random_state=42)\n",
    "\n",
    "            for train_index, test_index in split.split(raw_data_frame, raw_data_frame[\"default.payment.next.month\"]):\n",
    "                strat_train_set = raw_data_frame.loc[train_index]\n",
    "                strat_test_set = raw_data_frame.loc[test_index]\n",
    "\n",
    "            if strat_train_set is not None:\n",
    "                logger.info(f\"Exporting training dataset to file: [{train_file_path}]\")\n",
    "                strat_train_set.to_csv(train_file_path , index=False)\n",
    "\n",
    "            if strat_test_set is not None:\n",
    "                logger.info(f\"Exporting test dataset to file: [{test_file_path}]\")\n",
    "                strat_test_set.to_csv(test_file_path , index=False)\n",
    "                data_ingestion_artifact = DataIngestionArtifact(train_file_path=train_file_path,\n",
    "                                                                test_file_path=test_file_path)                                                               \n",
    "                logger.info(f\"Data Ingestion artifact:[{data_ingestion_artifact}]\")\n",
    "                return data_ingestion_artifact\n",
    "\n",
    "        except Exception as e:\n",
    "            raise AppException(e, sys) from e\n",
    "\n",
    "    def initiate_data_ingestion(self) -> DataIngestionArtifact:\n",
    "        try:\n",
    "            logger.info(f\"{'>>' * 20}Data Ingestion started.{'<<' * 20}\")\n",
    "            data_ingestion_config = self.data_ingestion_config\n",
    "            dataset_download_id = data_ingestion_config.dataset_download_id\n",
    "            raw_data_file_path = data_ingestion_config.raw_data_file_path\n",
    "            self.download_data(dataset_download_id,raw_data_file_path)\n",
    "\n",
    "            data_ingestion_response = self.split_data_as_train_test()\n",
    "            logger.info(f\"{'>>' * 20}Data Ingestion artifact.{'<<' * 20}\")\n",
    "            logger.info(f\" Data Ingestion Artifact{data_ingestion_response}\")\n",
    "            logger.info(f\"{'>>' * 20}Data Ingestion completed.{'<<' * 20}\")       \n",
    "            return data_ingestion_response\n",
    "        except Exception as e:\n",
    "            raise AppException(e, sys) from e\n",
    "\n",
    "    def __del__(self):\n",
    "       logger.info(f\"{'>>' * 20}Data Ingestion log completed.{'<<' * 20} \\n\\n\")\n",
    "\n",
    "\n",
    "if __name__ == \"__main__\":\n",
    "    config = Configuration()\n",
    "    data_ingestion_config = config.get_data_ingestion_config()\n",
    "    data_ingestion = DataIngestion(data_ingestion_config)\n",
    "    data_ingestion_response = data_ingestion.initiate_data_ingestion()                "
   ]
  },
  {
   "cell_type": "code",
   "execution_count": null,
   "metadata": {},
   "outputs": [],
   "source": []
  },
  {
   "cell_type": "code",
   "execution_count": null,
   "metadata": {},
   "outputs": [],
   "source": []
  }
 ],
 "metadata": {
  "kernelspec": {
   "display_name": "Python 3",
   "language": "python",
   "name": "python3"
  },
  "language_info": {
   "codemirror_mode": {
    "name": "ipython",
    "version": 3
   },
   "file_extension": ".py",
   "mimetype": "text/x-python",
   "name": "python",
   "nbconvert_exporter": "python",
   "pygments_lexer": "ipython3",
   "version": "3.9.7"
  },
  "orig_nbformat": 4
 },
 "nbformat": 4,
 "nbformat_minor": 2
}
