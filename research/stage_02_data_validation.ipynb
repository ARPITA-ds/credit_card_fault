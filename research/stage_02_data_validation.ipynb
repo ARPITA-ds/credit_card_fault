{
 "cells": [
  {
   "cell_type": "code",
   "execution_count": 1,
   "metadata": {},
   "outputs": [],
   "source": [
    "import os\n",
    "import sys\n",
    "from pathlib import Path"
   ]
  },
  {
   "cell_type": "code",
   "execution_count": 2,
   "metadata": {},
   "outputs": [
    {
     "data": {
      "text/plain": [
       "'c:\\\\project\\\\credit_card_fault'"
      ]
     },
     "execution_count": 2,
     "metadata": {},
     "output_type": "execute_result"
    }
   ],
   "source": [
    "os.chdir(\"..\")\n",
    "os.getcwd()"
   ]
  },
  {
   "cell_type": "code",
   "execution_count": 3,
   "metadata": {},
   "outputs": [
    {
     "name": "stdout",
     "output_type": "stream",
     "text": [
      "c:\\project\\credit_card_fault\\configs\\config.yaml\n"
     ]
    }
   ],
   "source": [
    "ROOT_DIR = os.getcwd()  # to get current working directory\n",
    "\n",
    "# config constants\n",
    "CONFIG_DIR = os.path.join(ROOT_DIR, \"configs\")\n",
    "CONFIG_FILE_NAME = \"config.yaml\"\n",
    "CONFIG_FILE_PATH = os.path.join(CONFIG_DIR, CONFIG_FILE_NAME)\n",
    "print(CONFIG_FILE_PATH)"
   ]
  },
  {
   "cell_type": "code",
   "execution_count": 32,
   "metadata": {},
   "outputs": [
    {
     "name": "stdout",
     "output_type": "stream",
     "text": [
      "c:\\project\\credit_card_fault\\configs\\schema.yaml\n"
     ]
    }
   ],
   "source": [
    "SCHEMA_FILE_NAME = \"schema.yaml\"\n",
    "SCHEMA_FILE_PATH = os.path.join(CONFIG_DIR,SCHEMA_FILE_NAME)\n",
    "print(SCHEMA_FILE_PATH)"
   ]
  },
  {
   "cell_type": "code",
   "execution_count": 4,
   "metadata": {},
   "outputs": [],
   "source": [
    "from creditcard.logger import *"
   ]
  },
  {
   "cell_type": "code",
   "execution_count": 5,
   "metadata": {},
   "outputs": [],
   "source": [
    "# the kernel u were using base "
   ]
  },
  {
   "cell_type": "code",
   "execution_count": 6,
   "metadata": {},
   "outputs": [],
   "source": [
    "#try now ok\n",
    "from creditcard.entity import *"
   ]
  },
  {
   "cell_type": "code",
   "execution_count": 7,
   "metadata": {},
   "outputs": [],
   "source": [
    "from creditcard.utils import read_yaml,create_directories"
   ]
  },
  {
   "cell_type": "code",
   "execution_count": 8,
   "metadata": {},
   "outputs": [],
   "source": [
    "from creditcard.config import *"
   ]
  },
  {
   "cell_type": "code",
   "execution_count": 9,
   "metadata": {},
   "outputs": [
    {
     "name": "stderr",
     "output_type": "stream",
     "text": [
      "2023-04-23 19:38:20.356 | INFO     | creditcard.utils.common:read_yaml:34 - yaml file: configs\\config.yaml loaded successfully\n"
     ]
    }
   ],
   "source": [
    "config_info = read_yaml(path_to_yaml=Path(CONFIG_FILE_PATH))"
   ]
  },
  {
   "cell_type": "code",
   "execution_count": 10,
   "metadata": {},
   "outputs": [
    {
     "name": "stdout",
     "output_type": "stream",
     "text": [
      "{'artifact_dir': 'artifact', 'experiment_code': 'Development', 'pipeline_name': 'CreditCard', 'random_state': 1961}\n"
     ]
    }
   ],
   "source": [
    "pipeline_config = config_info.training_pipeline_config\n",
    "print(pipeline_config)"
   ]
  },
  {
   "cell_type": "code",
   "execution_count": 11,
   "metadata": {},
   "outputs": [],
   "source": [
    "artifact_dir = os.path.join(ROOT_DIR,pipeline_config.artifact_dir)"
   ]
  },
  {
   "cell_type": "code",
   "execution_count": 12,
   "metadata": {},
   "outputs": [
    {
     "name": "stdout",
     "output_type": "stream",
     "text": [
      "c:\\project\\credit_card_fault\\artifact\n"
     ]
    }
   ],
   "source": [
    "print(artifact_dir)"
   ]
  },
  {
   "cell_type": "code",
   "execution_count": 13,
   "metadata": {},
   "outputs": [
    {
     "name": "stdout",
     "output_type": "stream",
     "text": [
      "c:\\project\\credit_card_fault\\Development\n"
     ]
    }
   ],
   "source": [
    "experiment_code = os.path.join(ROOT_DIR,pipeline_config.experiment_code)\n",
    "print(experiment_code)"
   ]
  },
  {
   "cell_type": "code",
   "execution_count": null,
   "metadata": {},
   "outputs": [
    {
     "name": "stdout",
     "output_type": "stream",
     "text": [
      "{'data_validation_dir': 'stage02_data_validation', 'report_dir': 'data_drift_report', 'validated_test_file': 'validated_test.pkl', 'validated_train_file': 'validated_train.pkl'}\n"
     ]
    }
   ],
   "source": [
    "data_validation_config_info = config_info.data_validation_config\n",
    "print(data_validation_config_info)"
   ]
  },
  {
   "cell_type": "code",
   "execution_count": null,
   "metadata": {},
   "outputs": [
    {
     "name": "stdout",
     "output_type": "stream",
     "text": [
      "c:\\project\\credit_card_fault\\artifact\\stage02_data_validation\n"
     ]
    }
   ],
   "source": [
    "data_validated_artifact_dir = Path(os.path.join(artifact_dir,data_validation_config_info.data_validation_dir))\n",
    "print(data_validated_artifact_dir)"
   ]
  },
  {
   "cell_type": "code",
   "execution_count": null,
   "metadata": {},
   "outputs": [],
   "source": [
    "report_file_dir = os.path.join(data_validated_artifact_dir, data_validation_config_info.report_dir)"
   ]
  },
  {
   "cell_type": "code",
   "execution_count": null,
   "metadata": {},
   "outputs": [
    {
     "name": "stdout",
     "output_type": "stream",
     "text": [
      "c:\\project\\credit_card_fault\\artifact\\stage02_data_validation\\data_drift_report\n"
     ]
    }
   ],
   "source": [
    "print(report_file_dir)"
   ]
  },
  {
   "cell_type": "code",
   "execution_count": 15,
   "metadata": {},
   "outputs": [],
   "source": [
    "from evidently.report import Report\n",
    "from evidently.metric_preset import (\n",
    "    DataDriftPreset,\n",
    "    DataQualityPreset,\n",
    ")\n",
    "from evidently.metrics import *\n",
    "\n",
    "from evidently.test_suite import TestSuite\n",
    "\n",
    "from evidently.tests import *\n",
    "from box import ConfigBox"
   ]
  },
  {
   "cell_type": "code",
   "execution_count": 16,
   "metadata": {},
   "outputs": [],
   "source": [
    "from creditcard.entity.artifact_entity import *"
   ]
  },
  {
   "cell_type": "code",
   "execution_count": 17,
   "metadata": {},
   "outputs": [],
   "source": [
    "data_ingestion_artifact = DataIngestionArtifact"
   ]
  },
  {
   "cell_type": "code",
   "execution_count": 18,
   "metadata": {},
   "outputs": [],
   "source": [
    "import pandas as pd"
   ]
  },
  {
   "cell_type": "code",
   "execution_count": 21,
   "metadata": {},
   "outputs": [],
   "source": [
    "train_df = pd.read_csv(r'C:\\project\\credit_card_fault\\artifact\\Stage00_data_ingestion\\ingested_data\\train.csv')\n"
   ]
  },
  {
   "cell_type": "code",
   "execution_count": 22,
   "metadata": {},
   "outputs": [
    {
     "data": {
      "text/html": [
       "<div>\n",
       "<style scoped>\n",
       "    .dataframe tbody tr th:only-of-type {\n",
       "        vertical-align: middle;\n",
       "    }\n",
       "\n",
       "    .dataframe tbody tr th {\n",
       "        vertical-align: top;\n",
       "    }\n",
       "\n",
       "    .dataframe thead th {\n",
       "        text-align: right;\n",
       "    }\n",
       "</style>\n",
       "<table border=\"1\" class=\"dataframe\">\n",
       "  <thead>\n",
       "    <tr style=\"text-align: right;\">\n",
       "      <th></th>\n",
       "      <th>ID</th>\n",
       "      <th>LIMIT_BAL</th>\n",
       "      <th>SEX</th>\n",
       "      <th>EDUCATION</th>\n",
       "      <th>MARRIAGE</th>\n",
       "      <th>AGE</th>\n",
       "      <th>PAY_0</th>\n",
       "      <th>PAY_2</th>\n",
       "      <th>PAY_3</th>\n",
       "      <th>PAY_4</th>\n",
       "      <th>...</th>\n",
       "      <th>BILL_AMT4</th>\n",
       "      <th>BILL_AMT5</th>\n",
       "      <th>BILL_AMT6</th>\n",
       "      <th>PAY_AMT1</th>\n",
       "      <th>PAY_AMT2</th>\n",
       "      <th>PAY_AMT3</th>\n",
       "      <th>PAY_AMT4</th>\n",
       "      <th>PAY_AMT5</th>\n",
       "      <th>PAY_AMT6</th>\n",
       "      <th>default.payment.next.month</th>\n",
       "    </tr>\n",
       "  </thead>\n",
       "  <tbody>\n",
       "    <tr>\n",
       "      <th>0</th>\n",
       "      <td>6637</td>\n",
       "      <td>80000.0</td>\n",
       "      <td>2</td>\n",
       "      <td>3</td>\n",
       "      <td>1</td>\n",
       "      <td>41</td>\n",
       "      <td>2</td>\n",
       "      <td>2</td>\n",
       "      <td>2</td>\n",
       "      <td>2</td>\n",
       "      <td>...</td>\n",
       "      <td>61129.0</td>\n",
       "      <td>62348.0</td>\n",
       "      <td>61193.0</td>\n",
       "      <td>0.0</td>\n",
       "      <td>5000.0</td>\n",
       "      <td>2400.0</td>\n",
       "      <td>2341.0</td>\n",
       "      <td>0.0</td>\n",
       "      <td>2439.0</td>\n",
       "      <td>1</td>\n",
       "    </tr>\n",
       "    <tr>\n",
       "      <th>1</th>\n",
       "      <td>29302</td>\n",
       "      <td>50000.0</td>\n",
       "      <td>1</td>\n",
       "      <td>1</td>\n",
       "      <td>2</td>\n",
       "      <td>25</td>\n",
       "      <td>0</td>\n",
       "      <td>0</td>\n",
       "      <td>0</td>\n",
       "      <td>2</td>\n",
       "      <td>...</td>\n",
       "      <td>48174.0</td>\n",
       "      <td>48731.0</td>\n",
       "      <td>49655.0</td>\n",
       "      <td>4000.0</td>\n",
       "      <td>4000.0</td>\n",
       "      <td>2000.0</td>\n",
       "      <td>2000.0</td>\n",
       "      <td>2200.0</td>\n",
       "      <td>1700.0</td>\n",
       "      <td>0</td>\n",
       "    </tr>\n",
       "    <tr>\n",
       "      <th>2</th>\n",
       "      <td>2164</td>\n",
       "      <td>20000.0</td>\n",
       "      <td>1</td>\n",
       "      <td>1</td>\n",
       "      <td>2</td>\n",
       "      <td>30</td>\n",
       "      <td>0</td>\n",
       "      <td>0</td>\n",
       "      <td>2</td>\n",
       "      <td>0</td>\n",
       "      <td>...</td>\n",
       "      <td>19391.0</td>\n",
       "      <td>19120.0</td>\n",
       "      <td>19158.0</td>\n",
       "      <td>6500.0</td>\n",
       "      <td>84.0</td>\n",
       "      <td>7171.0</td>\n",
       "      <td>1000.0</td>\n",
       "      <td>1000.0</td>\n",
       "      <td>2000.0</td>\n",
       "      <td>0</td>\n",
       "    </tr>\n",
       "    <tr>\n",
       "      <th>3</th>\n",
       "      <td>6442</td>\n",
       "      <td>70000.0</td>\n",
       "      <td>2</td>\n",
       "      <td>2</td>\n",
       "      <td>2</td>\n",
       "      <td>24</td>\n",
       "      <td>0</td>\n",
       "      <td>0</td>\n",
       "      <td>0</td>\n",
       "      <td>0</td>\n",
       "      <td>...</td>\n",
       "      <td>64457.0</td>\n",
       "      <td>66021.0</td>\n",
       "      <td>67267.0</td>\n",
       "      <td>3167.0</td>\n",
       "      <td>2521.0</td>\n",
       "      <td>2400.0</td>\n",
       "      <td>2600.0</td>\n",
       "      <td>2614.0</td>\n",
       "      <td>2376.0</td>\n",
       "      <td>0</td>\n",
       "    </tr>\n",
       "    <tr>\n",
       "      <th>4</th>\n",
       "      <td>23135</td>\n",
       "      <td>210000.0</td>\n",
       "      <td>2</td>\n",
       "      <td>3</td>\n",
       "      <td>1</td>\n",
       "      <td>41</td>\n",
       "      <td>0</td>\n",
       "      <td>0</td>\n",
       "      <td>-1</td>\n",
       "      <td>-1</td>\n",
       "      <td>...</td>\n",
       "      <td>-649.0</td>\n",
       "      <td>-649.0</td>\n",
       "      <td>-649.0</td>\n",
       "      <td>2000.0</td>\n",
       "      <td>17864.0</td>\n",
       "      <td>569.0</td>\n",
       "      <td>0.0</td>\n",
       "      <td>0.0</td>\n",
       "      <td>1000.0</td>\n",
       "      <td>0</td>\n",
       "    </tr>\n",
       "  </tbody>\n",
       "</table>\n",
       "<p>5 rows × 25 columns</p>\n",
       "</div>"
      ],
      "text/plain": [
       "      ID  LIMIT_BAL  SEX  EDUCATION  MARRIAGE  AGE  PAY_0  PAY_2  PAY_3  \\\n",
       "0   6637    80000.0    2          3         1   41      2      2      2   \n",
       "1  29302    50000.0    1          1         2   25      0      0      0   \n",
       "2   2164    20000.0    1          1         2   30      0      0      2   \n",
       "3   6442    70000.0    2          2         2   24      0      0      0   \n",
       "4  23135   210000.0    2          3         1   41      0      0     -1   \n",
       "\n",
       "   PAY_4  ...  BILL_AMT4  BILL_AMT5  BILL_AMT6  PAY_AMT1  PAY_AMT2  PAY_AMT3  \\\n",
       "0      2  ...    61129.0    62348.0    61193.0       0.0    5000.0    2400.0   \n",
       "1      2  ...    48174.0    48731.0    49655.0    4000.0    4000.0    2000.0   \n",
       "2      0  ...    19391.0    19120.0    19158.0    6500.0      84.0    7171.0   \n",
       "3      0  ...    64457.0    66021.0    67267.0    3167.0    2521.0    2400.0   \n",
       "4     -1  ...     -649.0     -649.0     -649.0    2000.0   17864.0     569.0   \n",
       "\n",
       "   PAY_AMT4  PAY_AMT5  PAY_AMT6  default.payment.next.month  \n",
       "0    2341.0       0.0    2439.0                           1  \n",
       "1    2000.0    2200.0    1700.0                           0  \n",
       "2    1000.0    1000.0    2000.0                           0  \n",
       "3    2600.0    2614.0    2376.0                           0  \n",
       "4       0.0       0.0    1000.0                           0  \n",
       "\n",
       "[5 rows x 25 columns]"
      ]
     },
     "execution_count": 22,
     "metadata": {},
     "output_type": "execute_result"
    }
   ],
   "source": [
    "train_df.head()"
   ]
  },
  {
   "cell_type": "code",
   "execution_count": 23,
   "metadata": {},
   "outputs": [],
   "source": [
    "test_df = pd.read_csv(r'C:\\project\\credit_card_fault\\artifact\\Stage00_data_ingestion\\ingested_data\\test.csv')"
   ]
  },
  {
   "cell_type": "code",
   "execution_count": 24,
   "metadata": {},
   "outputs": [],
   "source": [
    "train_df.rename(\n",
    "                columns={\"default.payment.next.month\": \"default\"}, inplace=True\n",
    "            )\n",
    "test_df.rename(\n",
    "                columns={\"default.payment.next.month\": \"default\"}, inplace=True\n",
    "            )"
   ]
  },
  {
   "cell_type": "code",
   "execution_count": 25,
   "metadata": {},
   "outputs": [],
   "source": [
    "data_validation_config = DataValidationConfig"
   ]
  },
  {
   "cell_type": "code",
   "execution_count": 26,
   "metadata": {},
   "outputs": [
    {
     "name": "stdout",
     "output_type": "stream",
     "text": [
      "<class 'creditcard.entity.config_entity.DataValidationConfig'>\n"
     ]
    }
   ],
   "source": [
    "print(data_validation_config)"
   ]
  },
  {
   "cell_type": "code",
   "execution_count": 34,
   "metadata": {},
   "outputs": [
    {
     "name": "stderr",
     "output_type": "stream",
     "text": [
      "2023-04-23 19:57:23.791 | INFO     | creditcard.utils.common:read_yaml:34 - yaml file: c:\\project\\credit_card_fault\\configs\\schema.yaml loaded successfully\n"
     ]
    }
   ],
   "source": [
    "schema_config = read_yaml(path_to_yaml=Path(SCHEMA_FILE_PATH))"
   ]
  },
  {
   "cell_type": "code",
   "execution_count": 35,
   "metadata": {},
   "outputs": [],
   "source": [
    "schema_dict = schema_config.columns"
   ]
  },
  {
   "cell_type": "code",
   "execution_count": 36,
   "metadata": {},
   "outputs": [
    {
     "name": "stdout",
     "output_type": "stream",
     "text": [
      "{'AGE': 'int', 'BILL_AMT1': 'int', 'BILL_AMT2': 'int', 'BILL_AMT3': 'int', 'BILL_AMT4': 'int', 'BILL_AMT5': 'int', 'BILL_AMT6': 'int', 'EDUCATION': 'int', 'ID': 'int', 'LIMIT_BAL': 'int', 'MARRIAGE': 'int', 'PAY_0': 'int', 'PAY_2': 'int', 'PAY_3': 'int', 'PAY_4': 'int', 'PAY_5': 'int', 'PAY_6': 'int', 'PAY_AMT1': 'int', 'PAY_AMT2': 'int', 'PAY_AMT3': 'int', 'PAY_AMT4': 'int', 'PAY_AMT5': 'int', 'PAY_AMT6': 'int', 'SEX': 'int', 'default': 'int'}\n"
     ]
    }
   ],
   "source": [
    "print(schema_dict)"
   ]
  },
  {
   "cell_type": "code",
   "execution_count": 37,
   "metadata": {},
   "outputs": [],
   "source": [
    "for column, data_type in schema_dict.items():\n",
    "    train_df[column].astype(data_type)\n",
    "    test_df[column].astype(data_type)"
   ]
  },
  {
   "cell_type": "code",
   "execution_count": null,
   "metadata": {},
   "outputs": [],
   "source": []
  },
  {
   "cell_type": "code",
   "execution_count": null,
   "metadata": {},
   "outputs": [],
   "source": []
  }
 ],
 "metadata": {
  "kernelspec": {
   "display_name": "base",
   "language": "python",
   "name": "python3"
  },
  "language_info": {
   "codemirror_mode": {
    "name": "ipython",
    "version": 3
   },
   "file_extension": ".py",
   "mimetype": "text/x-python",
   "name": "python",
   "nbconvert_exporter": "python",
   "pygments_lexer": "ipython3",
   "version": "3.8.16"
  },
  "orig_nbformat": 4
 },
 "nbformat": 4,
 "nbformat_minor": 2
}
