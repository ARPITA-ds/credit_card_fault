{
 "cells": [
  {
   "cell_type": "code",
   "execution_count": 1,
   "metadata": {},
   "outputs": [],
   "source": [
    "import os,sys"
   ]
  },
  {
   "cell_type": "code",
   "execution_count": 2,
   "metadata": {},
   "outputs": [],
   "source": [
    "from pathlib import Path"
   ]
  },
  {
   "cell_type": "code",
   "execution_count": 8,
   "metadata": {},
   "outputs": [],
   "source": [
    "os.getcwd()\n",
    "os.chdir(\"..\")"
   ]
  },
  {
   "cell_type": "code",
   "execution_count": 9,
   "metadata": {},
   "outputs": [
    {
     "name": "stdout",
     "output_type": "stream",
     "text": [
      " Volume in drive C is Windows\n",
      " Volume Serial Number is 0695-0DCC\n",
      "\n",
      " Directory of c:\\project\\credit_card_fault\n",
      "\n",
      "23-04-2023  22:16    <DIR>          .\n",
      "06-04-2023  20:43    <DIR>          ..\n",
      "23-04-2023  22:16    <DIR>          .dvc\n",
      "23-04-2023  22:09               142 .dvcignore\n",
      "06-04-2023  21:18    <DIR>          .github\n",
      "10-04-2023  20:43             1,960 .gitignore\n",
      "19-04-2023  20:48    <DIR>          .pytest_cache\n",
      "25-04-2023  11:57    <DIR>          artifact\n",
      "25-04-2023  17:35    <DIR>          configs\n",
      "25-04-2023  11:57             2,559 dvc.lock\n",
      "25-04-2023  11:56             1,454 dvc.yaml\n",
      "18-04-2023  22:20    <DIR>          env\n",
      "06-04-2023  22:47               254 init_setup.sh\n",
      "06-04-2023  20:51             1,087 LICENSE\n",
      "25-04-2023  12:51    <DIR>          logs\n",
      "23-04-2023  22:11             1,595 params.yaml\n",
      "06-04-2023  21:36               226 pyproject.toml\n",
      "06-04-2023  20:40                12 README.md\n",
      "06-04-2023  22:29             2,706 requirements.txt\n",
      "06-04-2023  23:27               471 requirements_dev.txt\n",
      "27-04-2023  10:19    <DIR>          research\n",
      "06-04-2023  22:46               510 setup.cfg\n",
      "06-04-2023  21:26               793 setup.py\n",
      "18-04-2023  21:03    <DIR>          src\n",
      "06-04-2023  21:11             1,510 template.py\n",
      "06-04-2023  21:18    <DIR>          tests\n",
      "06-04-2023  22:46               634 tox.ini\n",
      "              15 File(s)         15,913 bytes\n",
      "              12 Dir(s)  44,049,313,792 bytes free\n"
     ]
    }
   ],
   "source": [
    "ls"
   ]
  },
  {
   "cell_type": "code",
   "execution_count": 3,
   "metadata": {},
   "outputs": [],
   "source": [
    "from creditcard.entity import *\n",
    "from creditcard.components import *\n",
    "from creditcard.constants import *\n",
    "from creditcard.utils import *"
   ]
  },
  {
   "cell_type": "code",
   "execution_count": 10,
   "metadata": {},
   "outputs": [
    {
     "name": "stdout",
     "output_type": "stream",
     "text": [
      "c:\\project\\credit_card_fault\\configs\\config.yaml\n"
     ]
    }
   ],
   "source": [
    "ROOT_DIR = os.getcwd()  # to get current working directory\n",
    "\n",
    "# config constants\n",
    "CONFIG_DIR = os.path.join(ROOT_DIR, \"configs\")\n",
    "CONFIG_FILE_NAME = \"config.yaml\"\n",
    "CONFIG_FILE_PATH = os.path.join(CONFIG_DIR, CONFIG_FILE_NAME)\n",
    "print(CONFIG_FILE_PATH)"
   ]
  },
  {
   "cell_type": "code",
   "execution_count": 11,
   "metadata": {},
   "outputs": [
    {
     "name": "stderr",
     "output_type": "stream",
     "text": [
      "2023-04-27 10:25:53.769 | INFO     | creditcard.utils.common:read_yaml:34 - yaml file: c:\\project\\credit_card_fault\\configs\\config.yaml loaded successfully\n"
     ]
    }
   ],
   "source": [
    "config_info = read_yaml(path_to_yaml = Path(CONFIG_FILE_PATH))"
   ]
  },
  {
   "cell_type": "code",
   "execution_count": 12,
   "metadata": {},
   "outputs": [
    {
     "name": "stdout",
     "output_type": "stream",
     "text": [
      "{'artifact_dir': 'artifact', 'experiment_code': 'Development', 'pipeline_name': 'CreditCard', 'random_state': 1961}\n"
     ]
    }
   ],
   "source": [
    "pipeline_config = config_info.training_pipeline_config\n",
    "print(pipeline_config)"
   ]
  },
  {
   "cell_type": "code",
   "execution_count": 14,
   "metadata": {},
   "outputs": [],
   "source": [
    "artifact_dir = pipeline_config.artifact_dir\n",
    "experiment_code = pipeline_config.experiment_code\n"
   ]
  },
  {
   "cell_type": "code",
   "execution_count": 15,
   "metadata": {},
   "outputs": [],
   "source": [
    "from creditcard.config import *"
   ]
  },
  {
   "cell_type": "code",
   "execution_count": 17,
   "metadata": {},
   "outputs": [
    {
     "name": "stdout",
     "output_type": "stream",
     "text": [
      "c:\\project\\credit_card_fault\\configs\\schema.yaml\n"
     ]
    }
   ],
   "source": [
    "SCHEMA_FILE_NAME = \"schema.yaml\"\n",
    "SCHEMA_FILE_PATH = os.path.join(CONFIG_DIR,SCHEMA_FILE_NAME)\n",
    "print(SCHEMA_FILE_PATH)"
   ]
  },
  {
   "cell_type": "code",
   "execution_count": 19,
   "metadata": {},
   "outputs": [
    {
     "name": "stdout",
     "output_type": "stream",
     "text": [
      "artifact\\stage02_data_validation\\validated_train.pkl\n"
     ]
    }
   ],
   "source": [
    "data_validation_config_info = config_info.data_validation_config\n",
    "validated_train_file_name = data_validation_config_info.validated_train_file\n",
    "data_validated_artifact_dir = Path(os.path.join(artifact_dir,data_validation_config_info.data_validation_dir))\n",
    "validated_train_file_path = os.path.join(data_validated_artifact_dir, validated_train_file_name)\n",
    "print(validated_train_file_path)"
   ]
  },
  {
   "cell_type": "code",
   "execution_count": 20,
   "metadata": {},
   "outputs": [],
   "source": [
    "model_trainer_config_info = config_info.model_trainer_config\n",
    "model_trainer_artifact_dir_name = model_trainer_config_info.model_trainer_dir\n",
    "model_trainer_artifact_dir = os.path.join(artifact_dir, model_trainer_artifact_dir_name)\n",
    "model_report_dir_name = model_trainer_config_info.model_reports_dir\n"
   ]
  },
  {
   "cell_type": "code",
   "execution_count": 22,
   "metadata": {},
   "outputs": [
    {
     "name": "stdout",
     "output_type": "stream",
     "text": [
      "artifact\\stage04_model_training\\best_model\\best_model.pkl\n"
     ]
    }
   ],
   "source": [
    "\n",
    "trained_model_path = os.path.join(model_trainer_artifact_dir, \"best_model\", \"best_model.pkl\")\n",
    "print(trained_model_path)"
   ]
  },
  {
   "cell_type": "code",
   "execution_count": 23,
   "metadata": {},
   "outputs": [],
   "source": [
    "model_report_dir = os.path.join(model_trainer_artifact_dir, model_report_dir_name)"
   ]
  },
  {
   "cell_type": "code",
   "execution_count": 24,
   "metadata": {},
   "outputs": [],
   "source": [
    "data_transformation_config_info = config_info.data_transformation_config"
   ]
  },
  {
   "cell_type": "code",
   "execution_count": 25,
   "metadata": {},
   "outputs": [],
   "source": [
    "data_transformation_dir_name = data_transformation_config_info.data_transformation_dir\n",
    "data_transformation_dir = os.path.join(artifact_dir, data_transformation_dir_name)"
   ]
  },
  {
   "cell_type": "code",
   "execution_count": 26,
   "metadata": {},
   "outputs": [],
   "source": [
    "preprocessed_object_dir = data_transformation_config_info.preprocessing_object_dir\n",
    "preprocessed_object_name = data_transformation_config_info.preprocessing_object_file_name\n",
    "preprocessed_object_file_path = os.path.join(data_transformation_dir, preprocessed_object_dir,\n",
    "                                                         preprocessed_object_name)"
   ]
  },
  {
   "cell_type": "code",
   "execution_count": 27,
   "metadata": {},
   "outputs": [
    {
     "name": "stderr",
     "output_type": "stream",
     "text": [
      "2023-04-27 10:41:13.726 | INFO     | creditcard.utils.common:create_directories:74 - created directory at: artifact\\stage04_model_training\\best_model\n",
      "2023-04-27 10:41:13.732 | INFO     | creditcard.utils.common:create_directories:74 - created directory at: artifact\\stage04_model_training\\model_eval_reports\n"
     ]
    }
   ],
   "source": [
    "create_directories([os.path.dirname(trained_model_path), model_report_dir])"
   ]
  },
  {
   "cell_type": "code",
   "execution_count": 29,
   "metadata": {},
   "outputs": [],
   "source": [
    "from creditcard.utils import *"
   ]
  },
  {
   "cell_type": "code",
   "execution_count": 34,
   "metadata": {},
   "outputs": [],
   "source": [
    "def get_model_trainer_config(self, model_config_file_path: str, schema_file_path: str , data_validation_config_info : DataValidationConfig , \n",
    "                                 data_transformation_config_info : DataTransformationConfig) -> ModelTrainerConfig:\n",
    "       \n",
    "            pipeline_config = self.pipeline_config\n",
    "            artifact_dir = pipeline_config.artifact_dir\n",
    "            experiment_code = pipeline_config.experiment_code\n",
    "            schema_file_path = data_validation_config_info.schema_file_path\n",
    "            validated_train_file_path = data_validation_config_info.data_validated_train_file_path\n",
    "            model_trainer_config_info = self.config_info.model_trainer_config\n",
    "            model_trainer_artifact_dir_name = model_trainer_config_info.model_trainer_dir\n",
    "            model_trainer_artifact_dir = os.path.join(artifact_dir, model_trainer_artifact_dir_name)\n",
    "            model_report_dir_name = model_trainer_config_info.model_reports_dir\n",
    "\n",
    "            trained_model_path = os.path.join(model_trainer_artifact_dir, \"best_model\", \"best_model.pkl\")\n",
    "            model_report_dir = os.path.join(model_trainer_artifact_dir, model_report_dir_name)\n",
    "            preprocessed_object_file_path = data_transformation_config_info.preprocessed_object_file_path\n",
    "\n",
    "            create_directories([os.path.dirname(trained_model_path), model_report_dir])\n",
    "\n",
    "            model_trainer_config = ModelTrainerConfig(model_config_file_path=model_config_file_path,\n",
    "                                                      base_accuracy=model_trainer_config_info.base_accuracy,\n",
    "                                                      trained_model_file_path=trained_model_path,\n",
    "                                                      model_report_dir=model_report_dir,\n",
    "                                                      preprocessed_object_file_path=preprocessed_object_file_path,\n",
    "                                                      schema_file_path=schema_file_path,\n",
    "                                                      eval_difference=model_trainer_config_info.eval_difference,\n",
    "                                                      eval_param=model_trainer_config_info.eval_param,\n",
    "                                                      experiment_id=experiment_code,\n",
    "                                                      to_train_data_path=validated_train_file_path, )\n",
    "\n",
    "            return model_trainer_config"
   ]
  },
  {
   "cell_type": "code",
   "execution_count": 39,
   "metadata": {},
   "outputs": [],
   "source": [
    "from pydantic import BaseModel, DirectoryPath, FilePath\n",
    "\n",
    "\n",
    "class DataIngestionArtifact(BaseModel):\n",
    "    train_file_path: FilePath\n",
    "    test_file_path: FilePath\n",
    "\n",
    "\n",
    "class DataValidationArtifact(BaseModel):\n",
    "    schema_file_path: FilePath\n",
    "    report_file_dir: DirectoryPath\n",
    "    is_validated: bool\n",
    "\n",
    "\n",
    "class DataTransformationArtifact(BaseModel):\n",
    "    preprocessed_object_path: FilePath\n",
    "    \n",
    "class ModelTrainerArtifact(BaseModel):\n",
    "    pass"
   ]
  },
  {
   "cell_type": "code",
   "execution_count": 35,
   "metadata": {},
   "outputs": [
    {
     "name": "stdout",
     "output_type": "stream",
     "text": [
      "{'base_accuracy': 0.7, 'eval_difference': 0.6, 'eval_param': 'roc_auc', 'model_factory_file_name': 'model_factory.yaml', 'model_reports_dir': 'model_eval_reports', 'model_trainer_dir': 'stage04_model_training', 'models': ['GBT', 'RF', 'LGBM', 'CATBOOST']}\n"
     ]
    }
   ],
   "source": [
    "print(model_trainer_config_info)"
   ]
  },
  {
   "cell_type": "code",
   "execution_count": 40,
   "metadata": {},
   "outputs": [],
   "source": [
    "from pathlib import Path\n",
    "\n",
    "from pydantic import BaseModel, DirectoryPath, FilePath\n",
    "\n",
    "\n",
    "class DataIngestionConfig(BaseModel):\n",
    "    dataset_download_id: str\n",
    "    raw_data_file_path: Path\n",
    "    ingested_train_file_path: Path\n",
    "    ingested_test_data_path: Path\n",
    "    random_state: int\n",
    "\n",
    "\n",
    "class TrainingPipelineConfig(BaseModel):\n",
    "    artifact_dir: DirectoryPath\n",
    "    pipeline_name: str\n",
    "    experiment_code: str\n",
    "    training_random_state: int\n",
    "\n",
    "\n",
    "class DataValidationConfig(BaseModel):\n",
    "    experiment_code: str\n",
    "    data_validated_artifact_dir: DirectoryPath\n",
    "    schema_file_path: FilePath\n",
    "    report_file_dir: Path\n",
    "    data_validated_test_collection: str\n",
    "    data_validated_train_collection: str\n",
    "    train_data_file: FilePath\n",
    "    test_data_file: FilePath\n",
    "\n",
    "\n",
    "class DataTransformationConfig(BaseModel):\n",
    "    data_validated_train_collection: str\n",
    "    schema_file_path: FilePath\n",
    "    random_state: int\n",
    "    preprocessed_object_file_path: Path\n",
    "    to_train_collection: str\n",
    "    to_test_collection: str\n",
    "    \n",
    "class ModelTrainerConfig(BaseModel):\n",
    "    model_config_file_path : Path\n",
    "    base_accuracy : int\n",
    "    trained_model_file_path : Path \n",
    "    model_report_dir : DirectoryPath\n",
    "    preprocessed_object_file_path: FilePath\n",
    "    to_train_collection: str\n",
    "    to_test_collection: str\n",
    "    schema_file_path : FilePath\n",
    "    model_report_dir : DirectoryPath\n",
    "    eval_difference : int\n",
    "    eval_param  : str\n",
    "    experiment_id : str\n",
    "    validated_collection : str"
   ]
  },
  {
   "cell_type": "code",
   "execution_count": 41,
   "metadata": {},
   "outputs": [],
   "source": [
    "model_trainer_config_info: ModelTrainerConfig"
   ]
  },
  {
   "cell_type": "code",
   "execution_count": 42,
   "metadata": {},
   "outputs": [],
   "source": [
    "model_trainer_config_info = model_trainer_config_info"
   ]
  },
  {
   "cell_type": "code",
   "execution_count": 44,
   "metadata": {},
   "outputs": [],
   "source": [
    "from pathlib import Path\n",
    "\n",
    "from pydantic import BaseModel, DirectoryPath, FilePath\n",
    "\n",
    "class MetricReportArtifact(BaseModel):\n",
    "        experiment_id : str \n",
    "        model_name : str \n",
    "        model_obj : object\n",
    "        report : object\n",
    "\n",
    "class MetricEvalArtifact(BaseModel):\n",
    "        best_model : object\n",
    "        best_train_eval_param  : int\n",
    "        best_test_eval_param : int\n",
    "        best_eval_param_difference : int \n",
    "        best_model_name  : str\n",
    "        best_model_report : object"
   ]
  },
  {
   "cell_type": "code",
   "execution_count": 46,
   "metadata": {},
   "outputs": [
    {
     "name": "stderr",
     "output_type": "stream",
     "text": [
      "2023-04-27 11:00:24.950 | INFO     | creditcard.utils.common:read_yaml:34 - yaml file: c:\\project\\credit_card_fault\\configs\\schema.yaml loaded successfully\n"
     ]
    }
   ],
   "source": [
    "schema_data = read_yaml(path_to_yaml=Path(SCHEMA_FILE_PATH))"
   ]
  },
  {
   "cell_type": "code",
   "execution_count": 47,
   "metadata": {},
   "outputs": [],
   "source": [
    "data_path = r\"C:\\project\\credit_card_fault\\artifact\\stage02_data_validation\\validated_train.pkl\""
   ]
  },
  {
   "cell_type": "code",
   "execution_count": 48,
   "metadata": {},
   "outputs": [],
   "source": [
    "import pandas as pd"
   ]
  },
  {
   "cell_type": "code",
   "execution_count": 49,
   "metadata": {},
   "outputs": [],
   "source": [
    "raw_data = pd.read_pickle(data_path)"
   ]
  },
  {
   "cell_type": "code",
   "execution_count": 50,
   "metadata": {},
   "outputs": [
    {
     "data": {
      "text/html": [
       "<div>\n",
       "<style scoped>\n",
       "    .dataframe tbody tr th:only-of-type {\n",
       "        vertical-align: middle;\n",
       "    }\n",
       "\n",
       "    .dataframe tbody tr th {\n",
       "        vertical-align: top;\n",
       "    }\n",
       "\n",
       "    .dataframe thead th {\n",
       "        text-align: right;\n",
       "    }\n",
       "</style>\n",
       "<table border=\"1\" class=\"dataframe\">\n",
       "  <thead>\n",
       "    <tr style=\"text-align: right;\">\n",
       "      <th></th>\n",
       "      <th>ID</th>\n",
       "      <th>LIMIT_BAL</th>\n",
       "      <th>SEX</th>\n",
       "      <th>EDUCATION</th>\n",
       "      <th>MARRIAGE</th>\n",
       "      <th>AGE</th>\n",
       "      <th>PAY_0</th>\n",
       "      <th>PAY_2</th>\n",
       "      <th>PAY_3</th>\n",
       "      <th>PAY_4</th>\n",
       "      <th>...</th>\n",
       "      <th>BILL_AMT4</th>\n",
       "      <th>BILL_AMT5</th>\n",
       "      <th>BILL_AMT6</th>\n",
       "      <th>PAY_AMT1</th>\n",
       "      <th>PAY_AMT2</th>\n",
       "      <th>PAY_AMT3</th>\n",
       "      <th>PAY_AMT4</th>\n",
       "      <th>PAY_AMT5</th>\n",
       "      <th>PAY_AMT6</th>\n",
       "      <th>default</th>\n",
       "    </tr>\n",
       "  </thead>\n",
       "  <tbody>\n",
       "    <tr>\n",
       "      <th>0</th>\n",
       "      <td>6637</td>\n",
       "      <td>80000.0</td>\n",
       "      <td>2</td>\n",
       "      <td>3</td>\n",
       "      <td>1</td>\n",
       "      <td>41</td>\n",
       "      <td>2</td>\n",
       "      <td>2</td>\n",
       "      <td>2</td>\n",
       "      <td>2</td>\n",
       "      <td>...</td>\n",
       "      <td>61129.0</td>\n",
       "      <td>62348.0</td>\n",
       "      <td>61193.0</td>\n",
       "      <td>0.0</td>\n",
       "      <td>5000.0</td>\n",
       "      <td>2400.0</td>\n",
       "      <td>2341.0</td>\n",
       "      <td>0.0</td>\n",
       "      <td>2439.0</td>\n",
       "      <td>1</td>\n",
       "    </tr>\n",
       "    <tr>\n",
       "      <th>1</th>\n",
       "      <td>29302</td>\n",
       "      <td>50000.0</td>\n",
       "      <td>1</td>\n",
       "      <td>1</td>\n",
       "      <td>2</td>\n",
       "      <td>25</td>\n",
       "      <td>0</td>\n",
       "      <td>0</td>\n",
       "      <td>0</td>\n",
       "      <td>2</td>\n",
       "      <td>...</td>\n",
       "      <td>48174.0</td>\n",
       "      <td>48731.0</td>\n",
       "      <td>49655.0</td>\n",
       "      <td>4000.0</td>\n",
       "      <td>4000.0</td>\n",
       "      <td>2000.0</td>\n",
       "      <td>2000.0</td>\n",
       "      <td>2200.0</td>\n",
       "      <td>1700.0</td>\n",
       "      <td>0</td>\n",
       "    </tr>\n",
       "    <tr>\n",
       "      <th>2</th>\n",
       "      <td>2164</td>\n",
       "      <td>20000.0</td>\n",
       "      <td>1</td>\n",
       "      <td>1</td>\n",
       "      <td>2</td>\n",
       "      <td>30</td>\n",
       "      <td>0</td>\n",
       "      <td>0</td>\n",
       "      <td>2</td>\n",
       "      <td>0</td>\n",
       "      <td>...</td>\n",
       "      <td>19391.0</td>\n",
       "      <td>19120.0</td>\n",
       "      <td>19158.0</td>\n",
       "      <td>6500.0</td>\n",
       "      <td>84.0</td>\n",
       "      <td>7171.0</td>\n",
       "      <td>1000.0</td>\n",
       "      <td>1000.0</td>\n",
       "      <td>2000.0</td>\n",
       "      <td>0</td>\n",
       "    </tr>\n",
       "    <tr>\n",
       "      <th>3</th>\n",
       "      <td>6442</td>\n",
       "      <td>70000.0</td>\n",
       "      <td>2</td>\n",
       "      <td>2</td>\n",
       "      <td>2</td>\n",
       "      <td>24</td>\n",
       "      <td>0</td>\n",
       "      <td>0</td>\n",
       "      <td>0</td>\n",
       "      <td>0</td>\n",
       "      <td>...</td>\n",
       "      <td>64457.0</td>\n",
       "      <td>66021.0</td>\n",
       "      <td>67267.0</td>\n",
       "      <td>3167.0</td>\n",
       "      <td>2521.0</td>\n",
       "      <td>2400.0</td>\n",
       "      <td>2600.0</td>\n",
       "      <td>2614.0</td>\n",
       "      <td>2376.0</td>\n",
       "      <td>0</td>\n",
       "    </tr>\n",
       "    <tr>\n",
       "      <th>4</th>\n",
       "      <td>23135</td>\n",
       "      <td>210000.0</td>\n",
       "      <td>2</td>\n",
       "      <td>3</td>\n",
       "      <td>1</td>\n",
       "      <td>41</td>\n",
       "      <td>0</td>\n",
       "      <td>0</td>\n",
       "      <td>-1</td>\n",
       "      <td>-1</td>\n",
       "      <td>...</td>\n",
       "      <td>-649.0</td>\n",
       "      <td>-649.0</td>\n",
       "      <td>-649.0</td>\n",
       "      <td>2000.0</td>\n",
       "      <td>17864.0</td>\n",
       "      <td>569.0</td>\n",
       "      <td>0.0</td>\n",
       "      <td>0.0</td>\n",
       "      <td>1000.0</td>\n",
       "      <td>0</td>\n",
       "    </tr>\n",
       "    <tr>\n",
       "      <th>...</th>\n",
       "      <td>...</td>\n",
       "      <td>...</td>\n",
       "      <td>...</td>\n",
       "      <td>...</td>\n",
       "      <td>...</td>\n",
       "      <td>...</td>\n",
       "      <td>...</td>\n",
       "      <td>...</td>\n",
       "      <td>...</td>\n",
       "      <td>...</td>\n",
       "      <td>...</td>\n",
       "      <td>...</td>\n",
       "      <td>...</td>\n",
       "      <td>...</td>\n",
       "      <td>...</td>\n",
       "      <td>...</td>\n",
       "      <td>...</td>\n",
       "      <td>...</td>\n",
       "      <td>...</td>\n",
       "      <td>...</td>\n",
       "      <td>...</td>\n",
       "    </tr>\n",
       "    <tr>\n",
       "      <th>23995</th>\n",
       "      <td>854</td>\n",
       "      <td>140000.0</td>\n",
       "      <td>2</td>\n",
       "      <td>2</td>\n",
       "      <td>2</td>\n",
       "      <td>23</td>\n",
       "      <td>0</td>\n",
       "      <td>0</td>\n",
       "      <td>0</td>\n",
       "      <td>0</td>\n",
       "      <td>...</td>\n",
       "      <td>43455.0</td>\n",
       "      <td>43980.0</td>\n",
       "      <td>44614.0</td>\n",
       "      <td>2100.0</td>\n",
       "      <td>2027.0</td>\n",
       "      <td>1800.0</td>\n",
       "      <td>1600.0</td>\n",
       "      <td>1750.0</td>\n",
       "      <td>1700.0</td>\n",
       "      <td>0</td>\n",
       "    </tr>\n",
       "    <tr>\n",
       "      <th>23996</th>\n",
       "      <td>25278</td>\n",
       "      <td>170000.0</td>\n",
       "      <td>2</td>\n",
       "      <td>1</td>\n",
       "      <td>2</td>\n",
       "      <td>27</td>\n",
       "      <td>-1</td>\n",
       "      <td>0</td>\n",
       "      <td>0</td>\n",
       "      <td>0</td>\n",
       "      <td>...</td>\n",
       "      <td>38330.0</td>\n",
       "      <td>39602.0</td>\n",
       "      <td>39922.0</td>\n",
       "      <td>1650.0</td>\n",
       "      <td>4500.0</td>\n",
       "      <td>4000.0</td>\n",
       "      <td>4000.0</td>\n",
       "      <td>3000.0</td>\n",
       "      <td>3000.0</td>\n",
       "      <td>0</td>\n",
       "    </tr>\n",
       "    <tr>\n",
       "      <th>23997</th>\n",
       "      <td>6002</td>\n",
       "      <td>500000.0</td>\n",
       "      <td>2</td>\n",
       "      <td>1</td>\n",
       "      <td>2</td>\n",
       "      <td>37</td>\n",
       "      <td>-1</td>\n",
       "      <td>-1</td>\n",
       "      <td>-1</td>\n",
       "      <td>-1</td>\n",
       "      <td>...</td>\n",
       "      <td>0.0</td>\n",
       "      <td>1450.0</td>\n",
       "      <td>2668.0</td>\n",
       "      <td>1625.0</td>\n",
       "      <td>517.0</td>\n",
       "      <td>0.0</td>\n",
       "      <td>1450.0</td>\n",
       "      <td>2668.0</td>\n",
       "      <td>1480.0</td>\n",
       "      <td>0</td>\n",
       "    </tr>\n",
       "    <tr>\n",
       "      <th>23998</th>\n",
       "      <td>21747</td>\n",
       "      <td>20000.0</td>\n",
       "      <td>2</td>\n",
       "      <td>1</td>\n",
       "      <td>2</td>\n",
       "      <td>24</td>\n",
       "      <td>0</td>\n",
       "      <td>0</td>\n",
       "      <td>2</td>\n",
       "      <td>-1</td>\n",
       "      <td>...</td>\n",
       "      <td>6572.0</td>\n",
       "      <td>5016.0</td>\n",
       "      <td>2508.0</td>\n",
       "      <td>2778.0</td>\n",
       "      <td>0.0</td>\n",
       "      <td>6572.0</td>\n",
       "      <td>5016.0</td>\n",
       "      <td>0.0</td>\n",
       "      <td>0.0</td>\n",
       "      <td>0</td>\n",
       "    </tr>\n",
       "    <tr>\n",
       "      <th>23999</th>\n",
       "      <td>13128</td>\n",
       "      <td>100000.0</td>\n",
       "      <td>2</td>\n",
       "      <td>1</td>\n",
       "      <td>2</td>\n",
       "      <td>32</td>\n",
       "      <td>1</td>\n",
       "      <td>-1</td>\n",
       "      <td>-1</td>\n",
       "      <td>0</td>\n",
       "      <td>...</td>\n",
       "      <td>325.0</td>\n",
       "      <td>647.0</td>\n",
       "      <td>7706.0</td>\n",
       "      <td>650.0</td>\n",
       "      <td>650.0</td>\n",
       "      <td>0.0</td>\n",
       "      <td>647.0</td>\n",
       "      <td>7706.0</td>\n",
       "      <td>1679.0</td>\n",
       "      <td>1</td>\n",
       "    </tr>\n",
       "  </tbody>\n",
       "</table>\n",
       "<p>24000 rows × 25 columns</p>\n",
       "</div>"
      ],
      "text/plain": [
       "          ID  LIMIT_BAL  SEX  EDUCATION  MARRIAGE  AGE  PAY_0  PAY_2  PAY_3  \\\n",
       "0       6637    80000.0    2          3         1   41      2      2      2   \n",
       "1      29302    50000.0    1          1         2   25      0      0      0   \n",
       "2       2164    20000.0    1          1         2   30      0      0      2   \n",
       "3       6442    70000.0    2          2         2   24      0      0      0   \n",
       "4      23135   210000.0    2          3         1   41      0      0     -1   \n",
       "...      ...        ...  ...        ...       ...  ...    ...    ...    ...   \n",
       "23995    854   140000.0    2          2         2   23      0      0      0   \n",
       "23996  25278   170000.0    2          1         2   27     -1      0      0   \n",
       "23997   6002   500000.0    2          1         2   37     -1     -1     -1   \n",
       "23998  21747    20000.0    2          1         2   24      0      0      2   \n",
       "23999  13128   100000.0    2          1         2   32      1     -1     -1   \n",
       "\n",
       "       PAY_4  ...  BILL_AMT4  BILL_AMT5  BILL_AMT6  PAY_AMT1  PAY_AMT2  \\\n",
       "0          2  ...    61129.0    62348.0    61193.0       0.0    5000.0   \n",
       "1          2  ...    48174.0    48731.0    49655.0    4000.0    4000.0   \n",
       "2          0  ...    19391.0    19120.0    19158.0    6500.0      84.0   \n",
       "3          0  ...    64457.0    66021.0    67267.0    3167.0    2521.0   \n",
       "4         -1  ...     -649.0     -649.0     -649.0    2000.0   17864.0   \n",
       "...      ...  ...        ...        ...        ...       ...       ...   \n",
       "23995      0  ...    43455.0    43980.0    44614.0    2100.0    2027.0   \n",
       "23996      0  ...    38330.0    39602.0    39922.0    1650.0    4500.0   \n",
       "23997     -1  ...        0.0     1450.0     2668.0    1625.0     517.0   \n",
       "23998     -1  ...     6572.0     5016.0     2508.0    2778.0       0.0   \n",
       "23999      0  ...      325.0      647.0     7706.0     650.0     650.0   \n",
       "\n",
       "       PAY_AMT3  PAY_AMT4  PAY_AMT5  PAY_AMT6  default  \n",
       "0        2400.0    2341.0       0.0    2439.0        1  \n",
       "1        2000.0    2000.0    2200.0    1700.0        0  \n",
       "2        7171.0    1000.0    1000.0    2000.0        0  \n",
       "3        2400.0    2600.0    2614.0    2376.0        0  \n",
       "4         569.0       0.0       0.0    1000.0        0  \n",
       "...         ...       ...       ...       ...      ...  \n",
       "23995    1800.0    1600.0    1750.0    1700.0        0  \n",
       "23996    4000.0    4000.0    3000.0    3000.0        0  \n",
       "23997       0.0    1450.0    2668.0    1480.0        0  \n",
       "23998    6572.0    5016.0       0.0       0.0        0  \n",
       "23999       0.0     647.0    7706.0    1679.0        1  \n",
       "\n",
       "[24000 rows x 25 columns]"
      ]
     },
     "execution_count": 50,
     "metadata": {},
     "output_type": "execute_result"
    }
   ],
   "source": [
    "raw_data"
   ]
  },
  {
   "cell_type": "code",
   "execution_count": 51,
   "metadata": {},
   "outputs": [],
   "source": [
    "x_train = raw_data.drop(schema_data.base_model_features_to_drop, axis=1)"
   ]
  },
  {
   "cell_type": "code",
   "execution_count": 52,
   "metadata": {},
   "outputs": [],
   "source": [
    "y_train = raw_data[schema_data.target_column]"
   ]
  },
  {
   "cell_type": "code",
   "execution_count": 53,
   "metadata": {},
   "outputs": [
    {
     "data": {
      "text/plain": [
       "0        1\n",
       "1        0\n",
       "2        0\n",
       "3        0\n",
       "4        0\n",
       "        ..\n",
       "23995    0\n",
       "23996    0\n",
       "23997    0\n",
       "23998    0\n",
       "23999    1\n",
       "Name: default, Length: 24000, dtype: int64"
      ]
     },
     "execution_count": 53,
     "metadata": {},
     "output_type": "execute_result"
    }
   ],
   "source": [
    "y_train"
   ]
  },
  {
   "cell_type": "code",
   "execution_count": 54,
   "metadata": {},
   "outputs": [],
   "source": [
    "preprocessing_obj_path =r\"C:\\project\\credit_card_fault\\artifact\\stage03_data_transformation\\preprocessing\\preprocessing_obj.pkl\""
   ]
  },
  {
   "cell_type": "code",
   "execution_count": 56,
   "metadata": {},
   "outputs": [],
   "source": [
    "preprocessing_obj = load_object(file_path=Path(preprocessing_obj_path))"
   ]
  },
  {
   "cell_type": "code",
   "execution_count": 58,
   "metadata": {},
   "outputs": [],
   "source": [
    "x_processed = preprocessing_obj.transform(x_train)"
   ]
  },
  {
   "cell_type": "code",
   "execution_count": 59,
   "metadata": {},
   "outputs": [],
   "source": [
    "import numpy"
   ]
  },
  {
   "cell_type": "code",
   "execution_count": 60,
   "metadata": {},
   "outputs": [],
   "source": [
    "data_to_train = numpy.c_[x_processed, y_train]"
   ]
  },
  {
   "cell_type": "code",
   "execution_count": 61,
   "metadata": {},
   "outputs": [
    {
     "data": {
      "text/plain": [
       "array([[0., 1., 0., ..., 0., 2., 1.],\n",
       "       [1., 0., 0., ..., 0., 2., 0.],\n",
       "       [1., 0., 0., ..., 0., 3., 0.],\n",
       "       ...,\n",
       "       [0., 0., 0., ..., 0., 1., 0.],\n",
       "       [1., 0., 0., ..., 0., 3., 0.],\n",
       "       [0., 1., 0., ..., 0., 1., 1.]])"
      ]
     },
     "execution_count": 61,
     "metadata": {},
     "output_type": "execute_result"
    }
   ],
   "source": [
    "data_to_train"
   ]
  },
  {
   "cell_type": "code",
   "execution_count": 62,
   "metadata": {},
   "outputs": [],
   "source": [
    "trained_model_columns = schema_data.base_model_trained_columns"
   ]
  },
  {
   "cell_type": "code",
   "execution_count": 64,
   "metadata": {},
   "outputs": [],
   "source": [
    "model_factory_config_file_path = r\"C:\\project\\credit_card_fault\\configs\\model_factory.yaml\""
   ]
  },
  {
   "cell_type": "code",
   "execution_count": 65,
   "metadata": {},
   "outputs": [
    {
     "name": "stderr",
     "output_type": "stream",
     "text": [
      "2023-04-27 11:32:15.874 | INFO     | creditcard.utils.common:read_yaml:34 - yaml file: C:\\project\\credit_card_fault\\configs\\model_factory.yaml loaded successfully\n"
     ]
    }
   ],
   "source": [
    "Model_factory_config_info = read_yaml(Path(model_factory_config_file_path))"
   ]
  },
  {
   "cell_type": "code",
   "execution_count": 66,
   "metadata": {},
   "outputs": [],
   "source": [
    "model_keys = Model_factory_config_info.models.keys()"
   ]
  },
  {
   "cell_type": "code",
   "execution_count": 67,
   "metadata": {},
   "outputs": [
    {
     "data": {
      "text/plain": [
       "dict_keys(['GBT', 'LGBM', 'RF', 'CATBOOST'])"
      ]
     },
     "execution_count": 67,
     "metadata": {},
     "output_type": "execute_result"
    }
   ],
   "source": [
    "model_keys"
   ]
  },
  {
   "cell_type": "code",
   "execution_count": null,
   "metadata": {},
   "outputs": [],
   "source": []
  }
 ],
 "metadata": {
  "kernelspec": {
   "display_name": "Python 3",
   "language": "python",
   "name": "python3"
  },
  "language_info": {
   "codemirror_mode": {
    "name": "ipython",
    "version": 3
   },
   "file_extension": ".py",
   "mimetype": "text/x-python",
   "name": "python",
   "nbconvert_exporter": "python",
   "pygments_lexer": "ipython3",
   "version": "3.8.16"
  },
  "orig_nbformat": 4
 },
 "nbformat": 4,
 "nbformat_minor": 2
}
