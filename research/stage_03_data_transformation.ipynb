{
 "cells": [
  {
   "cell_type": "code",
   "execution_count": 1,
   "metadata": {},
   "outputs": [],
   "source": [
    "import pandas as pd"
   ]
  },
  {
   "cell_type": "code",
   "execution_count": 2,
   "metadata": {},
   "outputs": [],
   "source": [
    "from pathlib import Path"
   ]
  },
  {
   "cell_type": "code",
   "execution_count": 3,
   "metadata": {},
   "outputs": [],
   "source": [
    "from creditcard.entity import *"
   ]
  },
  {
   "cell_type": "code",
   "execution_count": 4,
   "metadata": {},
   "outputs": [],
   "source": [
    "from creditcard.utils import *"
   ]
  },
  {
   "cell_type": "code",
   "execution_count": 5,
   "metadata": {},
   "outputs": [],
   "source": [
    "from creditcard.constants import *"
   ]
  },
  {
   "cell_type": "code",
   "execution_count": 6,
   "metadata": {},
   "outputs": [],
   "source": [
    "import os\n",
    "import sys"
   ]
  },
  {
   "cell_type": "code",
   "execution_count": 14,
   "metadata": {},
   "outputs": [
    {
     "name": "stdout",
     "output_type": "stream",
     "text": [
      "c:\\project\\credit_card_fault\\configs\\config.yaml\n"
     ]
    }
   ],
   "source": [
    "ROOT_DIR = os.getcwd()  # to get current working directory\n",
    "\n",
    "# config constants\n",
    "CONFIG_DIR = os.path.join(ROOT_DIR, \"configs\")\n",
    "CONFIG_FILE_NAME = \"config.yaml\"\n",
    "CONFIG_FILE_PATH = os.path.join(CONFIG_DIR, CONFIG_FILE_NAME)\n",
    "print(CONFIG_FILE_PATH)"
   ]
  },
  {
   "cell_type": "code",
   "execution_count": 8,
   "metadata": {},
   "outputs": [
    {
     "name": "stdout",
     "output_type": "stream",
     "text": [
      "c:\\project\\credit_card_fault\\research\\configs\\schema.yaml\n"
     ]
    }
   ],
   "source": [
    "SCHEMA_FILE_NAME = \"schema.yaml\"\n",
    "SCHEMA_FILE_PATH = os.path.join(CONFIG_DIR,SCHEMA_FILE_NAME)\n",
    "print(SCHEMA_FILE_PATH)"
   ]
  },
  {
   "cell_type": "code",
   "execution_count": 9,
   "metadata": {},
   "outputs": [
    {
     "name": "stdout",
     "output_type": "stream",
     "text": [
      " Volume in drive C is Windows\n",
      " Volume Serial Number is 0695-0DCC\n",
      "\n",
      " Directory of c:\\project\\credit_card_fault\\research\n",
      "\n",
      "24-04-2023  22:28    <DIR>          .\n",
      "23-04-2023  22:16    <DIR>          ..\n",
      "10-04-2023  21:09    <DIR>          artifact\n",
      "17-04-2023  21:12         1,437,807 eda.ipynb\n",
      "24-04-2023  22:31    <DIR>          logs\n",
      "19-04-2023  21:01            20,134 stage_01_data_ingestion.ipynb\n",
      "24-04-2023  21:13            36,151 stage_02_data_validation.ipynb\n",
      "24-04-2023  22:44            10,463 stage_03_data_transformation.ipynb\n",
      "               4 File(s)      1,504,555 bytes\n",
      "               4 Dir(s)  46,311,346,176 bytes free\n"
     ]
    }
   ],
   "source": [
    "ls"
   ]
  },
  {
   "cell_type": "code",
   "execution_count": 10,
   "metadata": {},
   "outputs": [],
   "source": [
    "os.getcwd()\n",
    "os.chdir(\"..\")"
   ]
  },
  {
   "cell_type": "code",
   "execution_count": 13,
   "metadata": {},
   "outputs": [
    {
     "name": "stdout",
     "output_type": "stream",
     "text": [
      " Volume in drive C is Windows\n",
      " Volume Serial Number is 0695-0DCC\n",
      "\n",
      " Directory of c:\\project\\credit_card_fault\n",
      "\n",
      "23-04-2023  22:16    <DIR>          .\n",
      "06-04-2023  20:43    <DIR>          ..\n",
      "23-04-2023  22:16    <DIR>          .dvc\n",
      "23-04-2023  22:09               142 .dvcignore\n",
      "06-04-2023  21:18    <DIR>          .github\n",
      "10-04-2023  20:43             1,960 .gitignore\n",
      "19-04-2023  20:48    <DIR>          .pytest_cache\n",
      "23-04-2023  22:22    <DIR>          artifact\n",
      "24-04-2023  22:51    <DIR>          configs\n",
      "23-04-2023  22:16               902 dvc.lock\n",
      "24-04-2023  21:18               979 dvc.yaml\n",
      "18-04-2023  22:20    <DIR>          env\n",
      "06-04-2023  22:47               254 init_setup.sh\n",
      "06-04-2023  20:51             1,087 LICENSE\n",
      "24-04-2023  20:14    <DIR>          logs\n",
      "23-04-2023  22:11             1,595 params.yaml\n",
      "06-04-2023  21:36               226 pyproject.toml\n",
      "06-04-2023  20:40                12 README.md\n",
      "06-04-2023  22:29             2,706 requirements.txt\n",
      "06-04-2023  23:27               471 requirements_dev.txt\n",
      "24-04-2023  22:28    <DIR>          research\n",
      "06-04-2023  22:46               510 setup.cfg\n",
      "06-04-2023  21:26               793 setup.py\n",
      "18-04-2023  21:03    <DIR>          src\n",
      "06-04-2023  21:11             1,510 template.py\n",
      "06-04-2023  21:18    <DIR>          tests\n",
      "06-04-2023  22:46               634 tox.ini\n",
      "              15 File(s)         13,781 bytes\n",
      "              12 Dir(s)  46,295,805,952 bytes free\n"
     ]
    }
   ],
   "source": [
    "ls"
   ]
  },
  {
   "cell_type": "code",
   "execution_count": 15,
   "metadata": {},
   "outputs": [
    {
     "name": "stderr",
     "output_type": "stream",
     "text": [
      "2023-04-25 09:13:46.376 | INFO     | creditcard.utils.common:read_yaml:34 - yaml file: c:\\project\\credit_card_fault\\configs\\config.yaml loaded successfully\n"
     ]
    }
   ],
   "source": [
    "config_info = read_yaml(path_to_yaml = Path(CONFIG_FILE_PATH))"
   ]
  },
  {
   "cell_type": "code",
   "execution_count": 16,
   "metadata": {},
   "outputs": [
    {
     "name": "stdout",
     "output_type": "stream",
     "text": [
      "{'artifact_dir': 'artifact', 'experiment_code': 'Development', 'pipeline_name': 'CreditCard', 'random_state': 1961}\n"
     ]
    }
   ],
   "source": [
    "pipeline_config = config_info.training_pipeline_config\n",
    "print(pipeline_config)"
   ]
  },
  {
   "cell_type": "code",
   "execution_count": 17,
   "metadata": {},
   "outputs": [],
   "source": [
    "artifact_dir = os.path.join(ROOT_DIR,pipeline_config.artifact_dir)"
   ]
  },
  {
   "cell_type": "code",
   "execution_count": 18,
   "metadata": {},
   "outputs": [
    {
     "name": "stdout",
     "output_type": "stream",
     "text": [
      "1961\n"
     ]
    }
   ],
   "source": [
    "random_state = pipeline_config.random_state\n",
    "print(random_state)"
   ]
  },
  {
   "cell_type": "code",
   "execution_count": 19,
   "metadata": {},
   "outputs": [
    {
     "name": "stdout",
     "output_type": "stream",
     "text": [
      "c:\\project\\credit_card_fault\\configs\\schema.yaml\n"
     ]
    }
   ],
   "source": [
    "SCHEMA_FILE_NAME = \"schema.yaml\"\n",
    "SCHEMA_FILE_PATH = os.path.join(CONFIG_DIR,SCHEMA_FILE_NAME)\n",
    "print(SCHEMA_FILE_PATH)"
   ]
  },
  {
   "cell_type": "code",
   "execution_count": 20,
   "metadata": {},
   "outputs": [],
   "source": [
    "data_transformation_config_info = config_info.data_transformation_config\n"
   ]
  },
  {
   "cell_type": "code",
   "execution_count": 21,
   "metadata": {},
   "outputs": [
    {
     "name": "stdout",
     "output_type": "stream",
     "text": [
      "{'data_transformation_dir': 'stage03_data_transformation', 'preprocessing_object_dir': 'preprocessing', 'preprocessing_object_file_name': 'preprocessing_obj.pkl'}\n"
     ]
    }
   ],
   "source": [
    "print(data_transformation_config_info)"
   ]
  },
  {
   "cell_type": "code",
   "execution_count": 22,
   "metadata": {},
   "outputs": [
    {
     "name": "stdout",
     "output_type": "stream",
     "text": [
      "c:\\project\\credit_card_fault\\artifact\\stage03_data_transformation\n"
     ]
    }
   ],
   "source": [
    "data_transformation_dir_name = data_transformation_config_info.data_transformation_dir\n",
    "data_transformation_dir = os.path.join(artifact_dir, data_transformation_dir_name)\n",
    "print(data_transformation_dir)"
   ]
  },
  {
   "cell_type": "code",
   "execution_count": 23,
   "metadata": {},
   "outputs": [],
   "source": [
    "preprocessed_object_dir = data_transformation_config_info.preprocessing_object_dir\n",
    "preprocessed_object_name = data_transformation_config_info.preprocessing_object_file_name\n",
    "preprocessed_object_file_path = os.path.join(data_transformation_dir, preprocessed_object_dir,\n",
    "                                                         preprocessed_object_name)"
   ]
  },
  {
   "cell_type": "code",
   "execution_count": 24,
   "metadata": {},
   "outputs": [
    {
     "name": "stdout",
     "output_type": "stream",
     "text": [
      "c:\\project\\credit_card_fault\\artifact\\stage03_data_transformation\\preprocessing\\preprocessing_obj.pkl\n"
     ]
    }
   ],
   "source": [
    "print(preprocessed_object_file_path)"
   ]
  },
  {
   "cell_type": "code",
   "execution_count": 26,
   "metadata": {},
   "outputs": [],
   "source": [
    "FEATURE_GENERATOR_FILE_NAME = \"feature_generator.yaml\"\n",
    "FEATURE_GENERATOR_FILE_PATH = Path(os.path.join(CONFIG_DIR, FEATURE_GENERATOR_FILE_NAME))"
   ]
  },
  {
   "cell_type": "code",
   "execution_count": 29,
   "metadata": {},
   "outputs": [
    {
     "name": "stdout",
     "output_type": "stream",
     "text": [
      "c:\\project\\credit_card_fault\\configs\\feature_generator.yaml\n"
     ]
    }
   ],
   "source": [
    "print(FEATURE_GENERATOR_FILE_PATH)"
   ]
  },
  {
   "cell_type": "code",
   "execution_count": 30,
   "metadata": {},
   "outputs": [
    {
     "name": "stderr",
     "output_type": "stream",
     "text": [
      "2023-04-25 09:27:25.732 | INFO     | creditcard.utils.common:read_yaml:34 - yaml file: c:\\project\\credit_card_fault\\configs\\feature_generator.yaml loaded successfully\n"
     ]
    }
   ],
   "source": [
    "preprocessing = feature_generator_config=read_yaml(Path(FEATURE_GENERATOR_FILE_PATH))"
   ]
  },
  {
   "cell_type": "code",
   "execution_count": 31,
   "metadata": {},
   "outputs": [],
   "source": [
    "from creditcard.entity import *"
   ]
  },
  {
   "cell_type": "code",
   "execution_count": 33,
   "metadata": {},
   "outputs": [],
   "source": [
    "from creditcard.components import *"
   ]
  },
  {
   "cell_type": "code",
   "execution_count": 34,
   "metadata": {},
   "outputs": [],
   "source": [
    "from creditcard.config.configuration import *"
   ]
  },
  {
   "cell_type": "code",
   "execution_count": 35,
   "metadata": {},
   "outputs": [
    {
     "name": "stdout",
     "output_type": "stream",
     "text": [
      "{'data_validation_dir': 'stage02_data_validation', 'report_dir': 'data_drift_report', 'validated_test_file': 'validated_test.pkl', 'validated_train_file': 'validated_train.pkl'}\n"
     ]
    }
   ],
   "source": [
    "data_validation_config_info = config_info.data_validation_config\n",
    "print(data_validation_config_info)"
   ]
  },
  {
   "cell_type": "code",
   "execution_count": 36,
   "metadata": {},
   "outputs": [],
   "source": [
    "validated_train_file_name = data_validation_config_info.validated_train_file"
   ]
  },
  {
   "cell_type": "code",
   "execution_count": 37,
   "metadata": {},
   "outputs": [
    {
     "name": "stdout",
     "output_type": "stream",
     "text": [
      "c:\\project\\credit_card_fault\\artifact\\stage02_data_validation\n"
     ]
    }
   ],
   "source": [
    "data_validated_artifact_dir = Path(os.path.join(artifact_dir,data_validation_config_info.data_validation_dir))\n",
    "print(data_validated_artifact_dir)"
   ]
  },
  {
   "cell_type": "code",
   "execution_count": 38,
   "metadata": {},
   "outputs": [
    {
     "name": "stdout",
     "output_type": "stream",
     "text": [
      "c:\\project\\credit_card_fault\\artifact\\stage02_data_validation\\validated_train.pkl\n"
     ]
    }
   ],
   "source": [
    "validated_train_file_path = os.path.join(data_validated_artifact_dir, validated_train_file_name)\n",
    "print(validated_train_file_path)"
   ]
  },
  {
   "cell_type": "code",
   "execution_count": 39,
   "metadata": {},
   "outputs": [],
   "source": [
    "validated_train_data = pd.read_pickle(validated_train_file_path)"
   ]
  },
  {
   "cell_type": "code",
   "execution_count": 40,
   "metadata": {},
   "outputs": [
    {
     "data": {
      "text/html": [
       "<div>\n",
       "<style scoped>\n",
       "    .dataframe tbody tr th:only-of-type {\n",
       "        vertical-align: middle;\n",
       "    }\n",
       "\n",
       "    .dataframe tbody tr th {\n",
       "        vertical-align: top;\n",
       "    }\n",
       "\n",
       "    .dataframe thead th {\n",
       "        text-align: right;\n",
       "    }\n",
       "</style>\n",
       "<table border=\"1\" class=\"dataframe\">\n",
       "  <thead>\n",
       "    <tr style=\"text-align: right;\">\n",
       "      <th></th>\n",
       "      <th>ID</th>\n",
       "      <th>LIMIT_BAL</th>\n",
       "      <th>SEX</th>\n",
       "      <th>EDUCATION</th>\n",
       "      <th>MARRIAGE</th>\n",
       "      <th>AGE</th>\n",
       "      <th>PAY_0</th>\n",
       "      <th>PAY_2</th>\n",
       "      <th>PAY_3</th>\n",
       "      <th>PAY_4</th>\n",
       "      <th>...</th>\n",
       "      <th>BILL_AMT4</th>\n",
       "      <th>BILL_AMT5</th>\n",
       "      <th>BILL_AMT6</th>\n",
       "      <th>PAY_AMT1</th>\n",
       "      <th>PAY_AMT2</th>\n",
       "      <th>PAY_AMT3</th>\n",
       "      <th>PAY_AMT4</th>\n",
       "      <th>PAY_AMT5</th>\n",
       "      <th>PAY_AMT6</th>\n",
       "      <th>default</th>\n",
       "    </tr>\n",
       "  </thead>\n",
       "  <tbody>\n",
       "    <tr>\n",
       "      <th>0</th>\n",
       "      <td>6637</td>\n",
       "      <td>80000.0</td>\n",
       "      <td>2</td>\n",
       "      <td>3</td>\n",
       "      <td>1</td>\n",
       "      <td>41</td>\n",
       "      <td>2</td>\n",
       "      <td>2</td>\n",
       "      <td>2</td>\n",
       "      <td>2</td>\n",
       "      <td>...</td>\n",
       "      <td>61129.0</td>\n",
       "      <td>62348.0</td>\n",
       "      <td>61193.0</td>\n",
       "      <td>0.0</td>\n",
       "      <td>5000.0</td>\n",
       "      <td>2400.0</td>\n",
       "      <td>2341.0</td>\n",
       "      <td>0.0</td>\n",
       "      <td>2439.0</td>\n",
       "      <td>1</td>\n",
       "    </tr>\n",
       "    <tr>\n",
       "      <th>1</th>\n",
       "      <td>29302</td>\n",
       "      <td>50000.0</td>\n",
       "      <td>1</td>\n",
       "      <td>1</td>\n",
       "      <td>2</td>\n",
       "      <td>25</td>\n",
       "      <td>0</td>\n",
       "      <td>0</td>\n",
       "      <td>0</td>\n",
       "      <td>2</td>\n",
       "      <td>...</td>\n",
       "      <td>48174.0</td>\n",
       "      <td>48731.0</td>\n",
       "      <td>49655.0</td>\n",
       "      <td>4000.0</td>\n",
       "      <td>4000.0</td>\n",
       "      <td>2000.0</td>\n",
       "      <td>2000.0</td>\n",
       "      <td>2200.0</td>\n",
       "      <td>1700.0</td>\n",
       "      <td>0</td>\n",
       "    </tr>\n",
       "    <tr>\n",
       "      <th>2</th>\n",
       "      <td>2164</td>\n",
       "      <td>20000.0</td>\n",
       "      <td>1</td>\n",
       "      <td>1</td>\n",
       "      <td>2</td>\n",
       "      <td>30</td>\n",
       "      <td>0</td>\n",
       "      <td>0</td>\n",
       "      <td>2</td>\n",
       "      <td>0</td>\n",
       "      <td>...</td>\n",
       "      <td>19391.0</td>\n",
       "      <td>19120.0</td>\n",
       "      <td>19158.0</td>\n",
       "      <td>6500.0</td>\n",
       "      <td>84.0</td>\n",
       "      <td>7171.0</td>\n",
       "      <td>1000.0</td>\n",
       "      <td>1000.0</td>\n",
       "      <td>2000.0</td>\n",
       "      <td>0</td>\n",
       "    </tr>\n",
       "    <tr>\n",
       "      <th>3</th>\n",
       "      <td>6442</td>\n",
       "      <td>70000.0</td>\n",
       "      <td>2</td>\n",
       "      <td>2</td>\n",
       "      <td>2</td>\n",
       "      <td>24</td>\n",
       "      <td>0</td>\n",
       "      <td>0</td>\n",
       "      <td>0</td>\n",
       "      <td>0</td>\n",
       "      <td>...</td>\n",
       "      <td>64457.0</td>\n",
       "      <td>66021.0</td>\n",
       "      <td>67267.0</td>\n",
       "      <td>3167.0</td>\n",
       "      <td>2521.0</td>\n",
       "      <td>2400.0</td>\n",
       "      <td>2600.0</td>\n",
       "      <td>2614.0</td>\n",
       "      <td>2376.0</td>\n",
       "      <td>0</td>\n",
       "    </tr>\n",
       "    <tr>\n",
       "      <th>4</th>\n",
       "      <td>23135</td>\n",
       "      <td>210000.0</td>\n",
       "      <td>2</td>\n",
       "      <td>3</td>\n",
       "      <td>1</td>\n",
       "      <td>41</td>\n",
       "      <td>0</td>\n",
       "      <td>0</td>\n",
       "      <td>-1</td>\n",
       "      <td>-1</td>\n",
       "      <td>...</td>\n",
       "      <td>-649.0</td>\n",
       "      <td>-649.0</td>\n",
       "      <td>-649.0</td>\n",
       "      <td>2000.0</td>\n",
       "      <td>17864.0</td>\n",
       "      <td>569.0</td>\n",
       "      <td>0.0</td>\n",
       "      <td>0.0</td>\n",
       "      <td>1000.0</td>\n",
       "      <td>0</td>\n",
       "    </tr>\n",
       "    <tr>\n",
       "      <th>...</th>\n",
       "      <td>...</td>\n",
       "      <td>...</td>\n",
       "      <td>...</td>\n",
       "      <td>...</td>\n",
       "      <td>...</td>\n",
       "      <td>...</td>\n",
       "      <td>...</td>\n",
       "      <td>...</td>\n",
       "      <td>...</td>\n",
       "      <td>...</td>\n",
       "      <td>...</td>\n",
       "      <td>...</td>\n",
       "      <td>...</td>\n",
       "      <td>...</td>\n",
       "      <td>...</td>\n",
       "      <td>...</td>\n",
       "      <td>...</td>\n",
       "      <td>...</td>\n",
       "      <td>...</td>\n",
       "      <td>...</td>\n",
       "      <td>...</td>\n",
       "    </tr>\n",
       "    <tr>\n",
       "      <th>23995</th>\n",
       "      <td>854</td>\n",
       "      <td>140000.0</td>\n",
       "      <td>2</td>\n",
       "      <td>2</td>\n",
       "      <td>2</td>\n",
       "      <td>23</td>\n",
       "      <td>0</td>\n",
       "      <td>0</td>\n",
       "      <td>0</td>\n",
       "      <td>0</td>\n",
       "      <td>...</td>\n",
       "      <td>43455.0</td>\n",
       "      <td>43980.0</td>\n",
       "      <td>44614.0</td>\n",
       "      <td>2100.0</td>\n",
       "      <td>2027.0</td>\n",
       "      <td>1800.0</td>\n",
       "      <td>1600.0</td>\n",
       "      <td>1750.0</td>\n",
       "      <td>1700.0</td>\n",
       "      <td>0</td>\n",
       "    </tr>\n",
       "    <tr>\n",
       "      <th>23996</th>\n",
       "      <td>25278</td>\n",
       "      <td>170000.0</td>\n",
       "      <td>2</td>\n",
       "      <td>1</td>\n",
       "      <td>2</td>\n",
       "      <td>27</td>\n",
       "      <td>-1</td>\n",
       "      <td>0</td>\n",
       "      <td>0</td>\n",
       "      <td>0</td>\n",
       "      <td>...</td>\n",
       "      <td>38330.0</td>\n",
       "      <td>39602.0</td>\n",
       "      <td>39922.0</td>\n",
       "      <td>1650.0</td>\n",
       "      <td>4500.0</td>\n",
       "      <td>4000.0</td>\n",
       "      <td>4000.0</td>\n",
       "      <td>3000.0</td>\n",
       "      <td>3000.0</td>\n",
       "      <td>0</td>\n",
       "    </tr>\n",
       "    <tr>\n",
       "      <th>23997</th>\n",
       "      <td>6002</td>\n",
       "      <td>500000.0</td>\n",
       "      <td>2</td>\n",
       "      <td>1</td>\n",
       "      <td>2</td>\n",
       "      <td>37</td>\n",
       "      <td>-1</td>\n",
       "      <td>-1</td>\n",
       "      <td>-1</td>\n",
       "      <td>-1</td>\n",
       "      <td>...</td>\n",
       "      <td>0.0</td>\n",
       "      <td>1450.0</td>\n",
       "      <td>2668.0</td>\n",
       "      <td>1625.0</td>\n",
       "      <td>517.0</td>\n",
       "      <td>0.0</td>\n",
       "      <td>1450.0</td>\n",
       "      <td>2668.0</td>\n",
       "      <td>1480.0</td>\n",
       "      <td>0</td>\n",
       "    </tr>\n",
       "    <tr>\n",
       "      <th>23998</th>\n",
       "      <td>21747</td>\n",
       "      <td>20000.0</td>\n",
       "      <td>2</td>\n",
       "      <td>1</td>\n",
       "      <td>2</td>\n",
       "      <td>24</td>\n",
       "      <td>0</td>\n",
       "      <td>0</td>\n",
       "      <td>2</td>\n",
       "      <td>-1</td>\n",
       "      <td>...</td>\n",
       "      <td>6572.0</td>\n",
       "      <td>5016.0</td>\n",
       "      <td>2508.0</td>\n",
       "      <td>2778.0</td>\n",
       "      <td>0.0</td>\n",
       "      <td>6572.0</td>\n",
       "      <td>5016.0</td>\n",
       "      <td>0.0</td>\n",
       "      <td>0.0</td>\n",
       "      <td>0</td>\n",
       "    </tr>\n",
       "    <tr>\n",
       "      <th>23999</th>\n",
       "      <td>13128</td>\n",
       "      <td>100000.0</td>\n",
       "      <td>2</td>\n",
       "      <td>1</td>\n",
       "      <td>2</td>\n",
       "      <td>32</td>\n",
       "      <td>1</td>\n",
       "      <td>-1</td>\n",
       "      <td>-1</td>\n",
       "      <td>0</td>\n",
       "      <td>...</td>\n",
       "      <td>325.0</td>\n",
       "      <td>647.0</td>\n",
       "      <td>7706.0</td>\n",
       "      <td>650.0</td>\n",
       "      <td>650.0</td>\n",
       "      <td>0.0</td>\n",
       "      <td>647.0</td>\n",
       "      <td>7706.0</td>\n",
       "      <td>1679.0</td>\n",
       "      <td>1</td>\n",
       "    </tr>\n",
       "  </tbody>\n",
       "</table>\n",
       "<p>24000 rows × 25 columns</p>\n",
       "</div>"
      ],
      "text/plain": [
       "          ID  LIMIT_BAL  SEX  EDUCATION  MARRIAGE  AGE  PAY_0  PAY_2  PAY_3  \\\n",
       "0       6637    80000.0    2          3         1   41      2      2      2   \n",
       "1      29302    50000.0    1          1         2   25      0      0      0   \n",
       "2       2164    20000.0    1          1         2   30      0      0      2   \n",
       "3       6442    70000.0    2          2         2   24      0      0      0   \n",
       "4      23135   210000.0    2          3         1   41      0      0     -1   \n",
       "...      ...        ...  ...        ...       ...  ...    ...    ...    ...   \n",
       "23995    854   140000.0    2          2         2   23      0      0      0   \n",
       "23996  25278   170000.0    2          1         2   27     -1      0      0   \n",
       "23997   6002   500000.0    2          1         2   37     -1     -1     -1   \n",
       "23998  21747    20000.0    2          1         2   24      0      0      2   \n",
       "23999  13128   100000.0    2          1         2   32      1     -1     -1   \n",
       "\n",
       "       PAY_4  ...  BILL_AMT4  BILL_AMT5  BILL_AMT6  PAY_AMT1  PAY_AMT2  \\\n",
       "0          2  ...    61129.0    62348.0    61193.0       0.0    5000.0   \n",
       "1          2  ...    48174.0    48731.0    49655.0    4000.0    4000.0   \n",
       "2          0  ...    19391.0    19120.0    19158.0    6500.0      84.0   \n",
       "3          0  ...    64457.0    66021.0    67267.0    3167.0    2521.0   \n",
       "4         -1  ...     -649.0     -649.0     -649.0    2000.0   17864.0   \n",
       "...      ...  ...        ...        ...        ...       ...       ...   \n",
       "23995      0  ...    43455.0    43980.0    44614.0    2100.0    2027.0   \n",
       "23996      0  ...    38330.0    39602.0    39922.0    1650.0    4500.0   \n",
       "23997     -1  ...        0.0     1450.0     2668.0    1625.0     517.0   \n",
       "23998     -1  ...     6572.0     5016.0     2508.0    2778.0       0.0   \n",
       "23999      0  ...      325.0      647.0     7706.0     650.0     650.0   \n",
       "\n",
       "       PAY_AMT3  PAY_AMT4  PAY_AMT5  PAY_AMT6  default  \n",
       "0        2400.0    2341.0       0.0    2439.0        1  \n",
       "1        2000.0    2000.0    2200.0    1700.0        0  \n",
       "2        7171.0    1000.0    1000.0    2000.0        0  \n",
       "3        2400.0    2600.0    2614.0    2376.0        0  \n",
       "4         569.0       0.0       0.0    1000.0        0  \n",
       "...         ...       ...       ...       ...      ...  \n",
       "23995    1800.0    1600.0    1750.0    1700.0        0  \n",
       "23996    4000.0    4000.0    3000.0    3000.0        0  \n",
       "23997       0.0    1450.0    2668.0    1480.0        0  \n",
       "23998    6572.0    5016.0       0.0       0.0        0  \n",
       "23999       0.0     647.0    7706.0    1679.0        1  \n",
       "\n",
       "[24000 rows x 25 columns]"
      ]
     },
     "execution_count": 40,
     "metadata": {},
     "output_type": "execute_result"
    }
   ],
   "source": [
    "validated_train_data"
   ]
  },
  {
   "cell_type": "code",
   "execution_count": 41,
   "metadata": {},
   "outputs": [
    {
     "name": "stderr",
     "output_type": "stream",
     "text": [
      "2023-04-25 09:46:37.458 | INFO     | creditcard.utils.common:read_yaml:34 - yaml file: c:\\project\\credit_card_fault\\configs\\schema.yaml loaded successfully\n"
     ]
    }
   ],
   "source": [
    "schema_data = read_yaml(path_to_yaml=Path(SCHEMA_FILE_PATH))"
   ]
  },
  {
   "cell_type": "code",
   "execution_count": 42,
   "metadata": {},
   "outputs": [
    {
     "data": {
      "text/plain": [
       "ConfigBox({'base_model_features_to_drop': ['default', 'ID'], 'base_model_trained_columns': ['LIMIT_BAL_(5000, 50000]', 'LIMIT_BAL_(50000, 100000]', 'LIMIT_BAL_(100000, 150000]', 'LIMIT_BAL_(150000, 200000]', 'LIMIT_BAL_(200000, 300000]', 'LIMIT_BAL_(300000, 400000]', 'LIMIT_BAL_(400000, 500000]', 'LIMIT_BAL_(500000, 1100000]', 'SEX_1', 'SEX_2', 'EDUCATION_0', 'EDUCATION_1', 'EDUCATION_2', 'EDUCATION_3', 'EDUCATION_4', 'EDUCATION_5', 'EDUCATION_6', 'MARRIAGE_0', 'MARRIAGE_1', 'MARRIAGE_2', 'MARRIAGE_3', 'AGE_(20, 25]', 'AGE_(25, 30]', 'AGE_(30, 35]', 'AGE_(35, 40]', 'AGE_(40, 50]', 'AGE_(50, 60]', 'AGE_(60, 80]', 'PAY_0_-2', 'PAY_0_-1', 'PAY_0_0', 'PAY_0_1', 'PAY_0_2', 'PAY_0_3', 'PAY_0_4', 'PAY_2_-2', 'PAY_2_-1', 'PAY_2_0', 'PAY_2_1', 'PAY_2_2', 'PAY_2_3', 'PAY_2_4', 'PAY_3_-2', 'PAY_3_-1', 'PAY_3_0', 'PAY_3_1', 'PAY_3_2', 'PAY_3_3', 'PAY_3_4', 'PAY_4_-2', 'PAY_4_-1', 'PAY_4_0', 'PAY_4_1', 'PAY_4_2', 'PAY_4_3', 'PAY_4_4', 'PAY_5_-2', 'PAY_5_-1', 'PAY_5_0', 'PAY_5_2', 'PAY_5_3', 'PAY_5_4', 'PAY_6_-2', 'PAY_6_-1', 'PAY_6_0', 'PAY_6_2', 'PAY_6_3', 'PAY_6_4', 'BILL_AMT1_(-350000, -1]', 'BILL_AMT1_(-1, 0]', 'BILL_AMT1_(0, 25000]', 'BILL_AMT1_(25000, 75000]', 'BILL_AMT1_(75000, 200000]', 'BILL_AMT1_(200000, 2000000]', 'BILL_AMT2_(-350000, -1]', 'BILL_AMT2_(-1, 0]', 'BILL_AMT2_(0, 25000]', 'BILL_AMT2_(25000, 75000]', 'BILL_AMT2_(75000, 200000]', 'BILL_AMT2_(200000, 2000000]', 'BILL_AMT3_(-350000, -1]', 'BILL_AMT3_(-1, 0]', 'BILL_AMT3_(0, 25000]', 'BILL_AMT3_(25000, 75000]', 'BILL_AMT3_(75000, 200000]', 'BILL_AMT3_(200000, 2000000]', 'BILL_AMT4_(-350000, -1]', 'BILL_AMT4_(-1, 0]', 'BILL_AMT4_(0, 25000]', 'BILL_AMT4_(25000, 75000]', 'BILL_AMT4_(75000, 200000]', 'BILL_AMT4_(200000, 2000000]', 'BILL_AMT5_(-350000, -1]', 'BILL_AMT5_(-1, 0]', 'BILL_AMT5_(0, 25000]', 'BILL_AMT5_(25000, 75000]', 'BILL_AMT5_(75000, 200000]', 'BILL_AMT5_(200000, 2000000]', 'BILL_AMT6_(-350000, -1]', 'BILL_AMT6_(-1, 0]', 'BILL_AMT6_(0, 25000]', 'BILL_AMT6_(25000, 75000]', 'BILL_AMT6_(75000, 200000]', 'BILL_AMT6_(200000, 2000000]', 'PAY_AMT1_(-1, 0]', 'PAY_AMT1_(0, 25000]', 'PAY_AMT1_(25000, 50000]', 'PAY_AMT1_(50000, 100000]', 'PAY_AMT1_(100000, 2000000]', 'PAY_AMT2_(-1, 0]', 'PAY_AMT2_(0, 25000]', 'PAY_AMT2_(25000, 50000]', 'PAY_AMT2_(50000, 100000]', 'PAY_AMT2_(100000, 2000000]', 'PAY_AMT3_(-1, 0]', 'PAY_AMT3_(0, 25000]', 'PAY_AMT3_(25000, 50000]', 'PAY_AMT3_(50000, 100000]', 'PAY_AMT3_(100000, 2000000]', 'PAY_AMT4_(-1, 0]', 'PAY_AMT4_(0, 25000]', 'PAY_AMT4_(25000, 50000]', 'PAY_AMT4_(50000, 100000]', 'PAY_AMT4_(100000, 2000000]', 'PAY_AMT5_(-1, 0]', 'PAY_AMT5_(0, 25000]', 'PAY_AMT5_(25000, 50000]', 'PAY_AMT5_(50000, 100000]', 'PAY_AMT5_(100000, 2000000]', 'PAY_AMT6_(-1, 0]', 'PAY_AMT6_(0, 25000]', 'PAY_AMT6_(25000, 50000]', 'PAY_AMT6_(50000, 100000]', 'PAY_AMT6_(100000, 2000000]', 'cluster'], 'cluster_column': 'cluster', 'cluster_data': [0, 1, 2, 3, 4, 5, 6, 7, 8, 9, 10, 11, 12, 13, 14, 15, 16, 17, 18, 19, 20, 21, 22], 'columns': {'AGE': 'int', 'BILL_AMT1': 'int', 'BILL_AMT2': 'int', 'BILL_AMT3': 'int', 'BILL_AMT4': 'int', 'BILL_AMT5': 'int', 'BILL_AMT6': 'int', 'EDUCATION': 'int', 'ID': 'int', 'LIMIT_BAL': 'int', 'MARRIAGE': 'int', 'PAY_0': 'int', 'PAY_2': 'int', 'PAY_3': 'int', 'PAY_4': 'int', 'PAY_5': 'int', 'PAY_6': 'int', 'PAY_AMT1': 'int', 'PAY_AMT2': 'int', 'PAY_AMT3': 'int', 'PAY_AMT4': 'int', 'PAY_AMT5': 'int', 'PAY_AMT6': 'int', 'SEX': 'int', 'default': 'int'}, 'columns_to_eval': ['LIMIT_BAL', 'SEX', 'EDUCATION', 'MARRIAGE', 'AGE', 'PAY_0', 'PAY_2', 'PAY_3', 'PAY_4', 'PAY_5', 'PAY_6', 'BILL_AMT1', 'BILL_AMT2', 'BILL_AMT3', 'BILL_AMT4', 'BILL_AMT5', 'BILL_AMT6', 'PAY_AMT1', 'PAY_AMT2', 'PAY_AMT3', 'PAY_AMT4', 'PAY_AMT5', 'PAY_AMT6'], 'target_column': 'default'})"
      ]
     },
     "execution_count": 42,
     "metadata": {},
     "output_type": "execute_result"
    }
   ],
   "source": [
    "schema_data"
   ]
  },
  {
   "cell_type": "code",
   "execution_count": 43,
   "metadata": {},
   "outputs": [],
   "source": [
    "x_train = validated_train_data.drop(columns=schema_data.base_model_features_to_drop)"
   ]
  },
  {
   "cell_type": "code",
   "execution_count": 44,
   "metadata": {},
   "outputs": [
    {
     "data": {
      "text/html": [
       "<div>\n",
       "<style scoped>\n",
       "    .dataframe tbody tr th:only-of-type {\n",
       "        vertical-align: middle;\n",
       "    }\n",
       "\n",
       "    .dataframe tbody tr th {\n",
       "        vertical-align: top;\n",
       "    }\n",
       "\n",
       "    .dataframe thead th {\n",
       "        text-align: right;\n",
       "    }\n",
       "</style>\n",
       "<table border=\"1\" class=\"dataframe\">\n",
       "  <thead>\n",
       "    <tr style=\"text-align: right;\">\n",
       "      <th></th>\n",
       "      <th>LIMIT_BAL</th>\n",
       "      <th>SEX</th>\n",
       "      <th>EDUCATION</th>\n",
       "      <th>MARRIAGE</th>\n",
       "      <th>AGE</th>\n",
       "      <th>PAY_0</th>\n",
       "      <th>PAY_2</th>\n",
       "      <th>PAY_3</th>\n",
       "      <th>PAY_4</th>\n",
       "      <th>PAY_5</th>\n",
       "      <th>...</th>\n",
       "      <th>BILL_AMT3</th>\n",
       "      <th>BILL_AMT4</th>\n",
       "      <th>BILL_AMT5</th>\n",
       "      <th>BILL_AMT6</th>\n",
       "      <th>PAY_AMT1</th>\n",
       "      <th>PAY_AMT2</th>\n",
       "      <th>PAY_AMT3</th>\n",
       "      <th>PAY_AMT4</th>\n",
       "      <th>PAY_AMT5</th>\n",
       "      <th>PAY_AMT6</th>\n",
       "    </tr>\n",
       "  </thead>\n",
       "  <tbody>\n",
       "    <tr>\n",
       "      <th>0</th>\n",
       "      <td>80000.0</td>\n",
       "      <td>2</td>\n",
       "      <td>3</td>\n",
       "      <td>1</td>\n",
       "      <td>41</td>\n",
       "      <td>2</td>\n",
       "      <td>2</td>\n",
       "      <td>2</td>\n",
       "      <td>2</td>\n",
       "      <td>2</td>\n",
       "      <td>...</td>\n",
       "      <td>60313.0</td>\n",
       "      <td>61129.0</td>\n",
       "      <td>62348.0</td>\n",
       "      <td>61193.0</td>\n",
       "      <td>0.0</td>\n",
       "      <td>5000.0</td>\n",
       "      <td>2400.0</td>\n",
       "      <td>2341.0</td>\n",
       "      <td>0.0</td>\n",
       "      <td>2439.0</td>\n",
       "    </tr>\n",
       "    <tr>\n",
       "      <th>1</th>\n",
       "      <td>50000.0</td>\n",
       "      <td>1</td>\n",
       "      <td>1</td>\n",
       "      <td>2</td>\n",
       "      <td>25</td>\n",
       "      <td>0</td>\n",
       "      <td>0</td>\n",
       "      <td>0</td>\n",
       "      <td>2</td>\n",
       "      <td>2</td>\n",
       "      <td>...</td>\n",
       "      <td>47613.0</td>\n",
       "      <td>48174.0</td>\n",
       "      <td>48731.0</td>\n",
       "      <td>49655.0</td>\n",
       "      <td>4000.0</td>\n",
       "      <td>4000.0</td>\n",
       "      <td>2000.0</td>\n",
       "      <td>2000.0</td>\n",
       "      <td>2200.0</td>\n",
       "      <td>1700.0</td>\n",
       "    </tr>\n",
       "    <tr>\n",
       "      <th>2</th>\n",
       "      <td>20000.0</td>\n",
       "      <td>1</td>\n",
       "      <td>1</td>\n",
       "      <td>2</td>\n",
       "      <td>30</td>\n",
       "      <td>0</td>\n",
       "      <td>0</td>\n",
       "      <td>2</td>\n",
       "      <td>0</td>\n",
       "      <td>0</td>\n",
       "      <td>...</td>\n",
       "      <td>19995.0</td>\n",
       "      <td>19391.0</td>\n",
       "      <td>19120.0</td>\n",
       "      <td>19158.0</td>\n",
       "      <td>6500.0</td>\n",
       "      <td>84.0</td>\n",
       "      <td>7171.0</td>\n",
       "      <td>1000.0</td>\n",
       "      <td>1000.0</td>\n",
       "      <td>2000.0</td>\n",
       "    </tr>\n",
       "    <tr>\n",
       "      <th>3</th>\n",
       "      <td>70000.0</td>\n",
       "      <td>2</td>\n",
       "      <td>2</td>\n",
       "      <td>2</td>\n",
       "      <td>24</td>\n",
       "      <td>0</td>\n",
       "      <td>0</td>\n",
       "      <td>0</td>\n",
       "      <td>0</td>\n",
       "      <td>0</td>\n",
       "      <td>...</td>\n",
       "      <td>69390.0</td>\n",
       "      <td>64457.0</td>\n",
       "      <td>66021.0</td>\n",
       "      <td>67267.0</td>\n",
       "      <td>3167.0</td>\n",
       "      <td>2521.0</td>\n",
       "      <td>2400.0</td>\n",
       "      <td>2600.0</td>\n",
       "      <td>2614.0</td>\n",
       "      <td>2376.0</td>\n",
       "    </tr>\n",
       "    <tr>\n",
       "      <th>4</th>\n",
       "      <td>210000.0</td>\n",
       "      <td>2</td>\n",
       "      <td>3</td>\n",
       "      <td>1</td>\n",
       "      <td>41</td>\n",
       "      <td>0</td>\n",
       "      <td>0</td>\n",
       "      <td>-1</td>\n",
       "      <td>-1</td>\n",
       "      <td>-2</td>\n",
       "      <td>...</td>\n",
       "      <td>364.0</td>\n",
       "      <td>-649.0</td>\n",
       "      <td>-649.0</td>\n",
       "      <td>-649.0</td>\n",
       "      <td>2000.0</td>\n",
       "      <td>17864.0</td>\n",
       "      <td>569.0</td>\n",
       "      <td>0.0</td>\n",
       "      <td>0.0</td>\n",
       "      <td>1000.0</td>\n",
       "    </tr>\n",
       "    <tr>\n",
       "      <th>...</th>\n",
       "      <td>...</td>\n",
       "      <td>...</td>\n",
       "      <td>...</td>\n",
       "      <td>...</td>\n",
       "      <td>...</td>\n",
       "      <td>...</td>\n",
       "      <td>...</td>\n",
       "      <td>...</td>\n",
       "      <td>...</td>\n",
       "      <td>...</td>\n",
       "      <td>...</td>\n",
       "      <td>...</td>\n",
       "      <td>...</td>\n",
       "      <td>...</td>\n",
       "      <td>...</td>\n",
       "      <td>...</td>\n",
       "      <td>...</td>\n",
       "      <td>...</td>\n",
       "      <td>...</td>\n",
       "      <td>...</td>\n",
       "      <td>...</td>\n",
       "    </tr>\n",
       "    <tr>\n",
       "      <th>23995</th>\n",
       "      <td>140000.0</td>\n",
       "      <td>2</td>\n",
       "      <td>2</td>\n",
       "      <td>2</td>\n",
       "      <td>23</td>\n",
       "      <td>0</td>\n",
       "      <td>0</td>\n",
       "      <td>0</td>\n",
       "      <td>0</td>\n",
       "      <td>0</td>\n",
       "      <td>...</td>\n",
       "      <td>44739.0</td>\n",
       "      <td>43455.0</td>\n",
       "      <td>43980.0</td>\n",
       "      <td>44614.0</td>\n",
       "      <td>2100.0</td>\n",
       "      <td>2027.0</td>\n",
       "      <td>1800.0</td>\n",
       "      <td>1600.0</td>\n",
       "      <td>1750.0</td>\n",
       "      <td>1700.0</td>\n",
       "    </tr>\n",
       "    <tr>\n",
       "      <th>23996</th>\n",
       "      <td>170000.0</td>\n",
       "      <td>2</td>\n",
       "      <td>1</td>\n",
       "      <td>2</td>\n",
       "      <td>27</td>\n",
       "      <td>-1</td>\n",
       "      <td>0</td>\n",
       "      <td>0</td>\n",
       "      <td>0</td>\n",
       "      <td>0</td>\n",
       "      <td>...</td>\n",
       "      <td>39698.0</td>\n",
       "      <td>38330.0</td>\n",
       "      <td>39602.0</td>\n",
       "      <td>39922.0</td>\n",
       "      <td>1650.0</td>\n",
       "      <td>4500.0</td>\n",
       "      <td>4000.0</td>\n",
       "      <td>4000.0</td>\n",
       "      <td>3000.0</td>\n",
       "      <td>3000.0</td>\n",
       "    </tr>\n",
       "    <tr>\n",
       "      <th>23997</th>\n",
       "      <td>500000.0</td>\n",
       "      <td>2</td>\n",
       "      <td>1</td>\n",
       "      <td>2</td>\n",
       "      <td>37</td>\n",
       "      <td>-1</td>\n",
       "      <td>-1</td>\n",
       "      <td>-1</td>\n",
       "      <td>-1</td>\n",
       "      <td>-1</td>\n",
       "      <td>...</td>\n",
       "      <td>517.0</td>\n",
       "      <td>0.0</td>\n",
       "      <td>1450.0</td>\n",
       "      <td>2668.0</td>\n",
       "      <td>1625.0</td>\n",
       "      <td>517.0</td>\n",
       "      <td>0.0</td>\n",
       "      <td>1450.0</td>\n",
       "      <td>2668.0</td>\n",
       "      <td>1480.0</td>\n",
       "    </tr>\n",
       "    <tr>\n",
       "      <th>23998</th>\n",
       "      <td>20000.0</td>\n",
       "      <td>2</td>\n",
       "      <td>1</td>\n",
       "      <td>2</td>\n",
       "      <td>24</td>\n",
       "      <td>0</td>\n",
       "      <td>0</td>\n",
       "      <td>2</td>\n",
       "      <td>-1</td>\n",
       "      <td>-1</td>\n",
       "      <td>...</td>\n",
       "      <td>2778.0</td>\n",
       "      <td>6572.0</td>\n",
       "      <td>5016.0</td>\n",
       "      <td>2508.0</td>\n",
       "      <td>2778.0</td>\n",
       "      <td>0.0</td>\n",
       "      <td>6572.0</td>\n",
       "      <td>5016.0</td>\n",
       "      <td>0.0</td>\n",
       "      <td>0.0</td>\n",
       "    </tr>\n",
       "    <tr>\n",
       "      <th>23999</th>\n",
       "      <td>100000.0</td>\n",
       "      <td>2</td>\n",
       "      <td>1</td>\n",
       "      <td>2</td>\n",
       "      <td>32</td>\n",
       "      <td>1</td>\n",
       "      <td>-1</td>\n",
       "      <td>-1</td>\n",
       "      <td>0</td>\n",
       "      <td>-1</td>\n",
       "      <td>...</td>\n",
       "      <td>650.0</td>\n",
       "      <td>325.0</td>\n",
       "      <td>647.0</td>\n",
       "      <td>7706.0</td>\n",
       "      <td>650.0</td>\n",
       "      <td>650.0</td>\n",
       "      <td>0.0</td>\n",
       "      <td>647.0</td>\n",
       "      <td>7706.0</td>\n",
       "      <td>1679.0</td>\n",
       "    </tr>\n",
       "  </tbody>\n",
       "</table>\n",
       "<p>24000 rows × 23 columns</p>\n",
       "</div>"
      ],
      "text/plain": [
       "       LIMIT_BAL  SEX  EDUCATION  MARRIAGE  AGE  PAY_0  PAY_2  PAY_3  PAY_4  \\\n",
       "0        80000.0    2          3         1   41      2      2      2      2   \n",
       "1        50000.0    1          1         2   25      0      0      0      2   \n",
       "2        20000.0    1          1         2   30      0      0      2      0   \n",
       "3        70000.0    2          2         2   24      0      0      0      0   \n",
       "4       210000.0    2          3         1   41      0      0     -1     -1   \n",
       "...          ...  ...        ...       ...  ...    ...    ...    ...    ...   \n",
       "23995   140000.0    2          2         2   23      0      0      0      0   \n",
       "23996   170000.0    2          1         2   27     -1      0      0      0   \n",
       "23997   500000.0    2          1         2   37     -1     -1     -1     -1   \n",
       "23998    20000.0    2          1         2   24      0      0      2     -1   \n",
       "23999   100000.0    2          1         2   32      1     -1     -1      0   \n",
       "\n",
       "       PAY_5  ...  BILL_AMT3  BILL_AMT4  BILL_AMT5  BILL_AMT6  PAY_AMT1  \\\n",
       "0          2  ...    60313.0    61129.0    62348.0    61193.0       0.0   \n",
       "1          2  ...    47613.0    48174.0    48731.0    49655.0    4000.0   \n",
       "2          0  ...    19995.0    19391.0    19120.0    19158.0    6500.0   \n",
       "3          0  ...    69390.0    64457.0    66021.0    67267.0    3167.0   \n",
       "4         -2  ...      364.0     -649.0     -649.0     -649.0    2000.0   \n",
       "...      ...  ...        ...        ...        ...        ...       ...   \n",
       "23995      0  ...    44739.0    43455.0    43980.0    44614.0    2100.0   \n",
       "23996      0  ...    39698.0    38330.0    39602.0    39922.0    1650.0   \n",
       "23997     -1  ...      517.0        0.0     1450.0     2668.0    1625.0   \n",
       "23998     -1  ...     2778.0     6572.0     5016.0     2508.0    2778.0   \n",
       "23999     -1  ...      650.0      325.0      647.0     7706.0     650.0   \n",
       "\n",
       "       PAY_AMT2  PAY_AMT3  PAY_AMT4  PAY_AMT5  PAY_AMT6  \n",
       "0        5000.0    2400.0    2341.0       0.0    2439.0  \n",
       "1        4000.0    2000.0    2000.0    2200.0    1700.0  \n",
       "2          84.0    7171.0    1000.0    1000.0    2000.0  \n",
       "3        2521.0    2400.0    2600.0    2614.0    2376.0  \n",
       "4       17864.0     569.0       0.0       0.0    1000.0  \n",
       "...         ...       ...       ...       ...       ...  \n",
       "23995    2027.0    1800.0    1600.0    1750.0    1700.0  \n",
       "23996    4500.0    4000.0    4000.0    3000.0    3000.0  \n",
       "23997     517.0       0.0    1450.0    2668.0    1480.0  \n",
       "23998       0.0    6572.0    5016.0       0.0       0.0  \n",
       "23999     650.0       0.0     647.0    7706.0    1679.0  \n",
       "\n",
       "[24000 rows x 23 columns]"
      ]
     },
     "execution_count": 44,
     "metadata": {},
     "output_type": "execute_result"
    }
   ],
   "source": [
    "x_train"
   ]
  },
  {
   "cell_type": "code",
   "execution_count": 45,
   "metadata": {},
   "outputs": [],
   "source": [
    "from sklearn.cluster import KMeans\n",
    "from sklearn.preprocessing import OneHotEncoder\n",
    "from yellowbrick.cluster import KElbowVisualizer\n",
    "from sklearn.impute import SimpleImputer"
   ]
  },
  {
   "cell_type": "code",
   "execution_count": 46,
   "metadata": {},
   "outputs": [],
   "source": [
    "kmeans = KMeans(n_init='auto',init='k-means++',random_state=42)"
   ]
  },
  {
   "cell_type": "code",
   "execution_count": 47,
   "metadata": {},
   "outputs": [],
   "source": [
    "visualizer = KElbowVisualizer(kmeans,k=(2,15))"
   ]
  },
  {
   "cell_type": "code",
   "execution_count": 48,
   "metadata": {},
   "outputs": [
    {
     "data": {
      "text/html": [
       "<style>#sk-container-id-1 {color: black;background-color: white;}#sk-container-id-1 pre{padding: 0;}#sk-container-id-1 div.sk-toggleable {background-color: white;}#sk-container-id-1 label.sk-toggleable__label {cursor: pointer;display: block;width: 100%;margin-bottom: 0;padding: 0.3em;box-sizing: border-box;text-align: center;}#sk-container-id-1 label.sk-toggleable__label-arrow:before {content: \"▸\";float: left;margin-right: 0.25em;color: #696969;}#sk-container-id-1 label.sk-toggleable__label-arrow:hover:before {color: black;}#sk-container-id-1 div.sk-estimator:hover label.sk-toggleable__label-arrow:before {color: black;}#sk-container-id-1 div.sk-toggleable__content {max-height: 0;max-width: 0;overflow: hidden;text-align: left;background-color: #f0f8ff;}#sk-container-id-1 div.sk-toggleable__content pre {margin: 0.2em;color: black;border-radius: 0.25em;background-color: #f0f8ff;}#sk-container-id-1 input.sk-toggleable__control:checked~div.sk-toggleable__content {max-height: 200px;max-width: 100%;overflow: auto;}#sk-container-id-1 input.sk-toggleable__control:checked~label.sk-toggleable__label-arrow:before {content: \"▾\";}#sk-container-id-1 div.sk-estimator input.sk-toggleable__control:checked~label.sk-toggleable__label {background-color: #d4ebff;}#sk-container-id-1 div.sk-label input.sk-toggleable__control:checked~label.sk-toggleable__label {background-color: #d4ebff;}#sk-container-id-1 input.sk-hidden--visually {border: 0;clip: rect(1px 1px 1px 1px);clip: rect(1px, 1px, 1px, 1px);height: 1px;margin: -1px;overflow: hidden;padding: 0;position: absolute;width: 1px;}#sk-container-id-1 div.sk-estimator {font-family: monospace;background-color: #f0f8ff;border: 1px dotted black;border-radius: 0.25em;box-sizing: border-box;margin-bottom: 0.5em;}#sk-container-id-1 div.sk-estimator:hover {background-color: #d4ebff;}#sk-container-id-1 div.sk-parallel-item::after {content: \"\";width: 100%;border-bottom: 1px solid gray;flex-grow: 1;}#sk-container-id-1 div.sk-label:hover label.sk-toggleable__label {background-color: #d4ebff;}#sk-container-id-1 div.sk-serial::before {content: \"\";position: absolute;border-left: 1px solid gray;box-sizing: border-box;top: 0;bottom: 0;left: 50%;z-index: 0;}#sk-container-id-1 div.sk-serial {display: flex;flex-direction: column;align-items: center;background-color: white;padding-right: 0.2em;padding-left: 0.2em;position: relative;}#sk-container-id-1 div.sk-item {position: relative;z-index: 1;}#sk-container-id-1 div.sk-parallel {display: flex;align-items: stretch;justify-content: center;background-color: white;position: relative;}#sk-container-id-1 div.sk-item::before, #sk-container-id-1 div.sk-parallel-item::before {content: \"\";position: absolute;border-left: 1px solid gray;box-sizing: border-box;top: 0;bottom: 0;left: 50%;z-index: -1;}#sk-container-id-1 div.sk-parallel-item {display: flex;flex-direction: column;z-index: 1;position: relative;background-color: white;}#sk-container-id-1 div.sk-parallel-item:first-child::after {align-self: flex-end;width: 50%;}#sk-container-id-1 div.sk-parallel-item:last-child::after {align-self: flex-start;width: 50%;}#sk-container-id-1 div.sk-parallel-item:only-child::after {width: 0;}#sk-container-id-1 div.sk-dashed-wrapped {border: 1px dashed gray;margin: 0 0.4em 0.5em 0.4em;box-sizing: border-box;padding-bottom: 0.4em;background-color: white;}#sk-container-id-1 div.sk-label label {font-family: monospace;font-weight: bold;display: inline-block;line-height: 1.2em;}#sk-container-id-1 div.sk-label-container {text-align: center;}#sk-container-id-1 div.sk-container {/* jupyter's `normalize.less` sets `[hidden] { display: none; }` but bootstrap.min.css set `[hidden] { display: none !important; }` so we also need the `!important` here to be able to override the default hidden behavior on the sphinx rendered scikit-learn.org. See: https://github.com/scikit-learn/scikit-learn/issues/21755 */display: inline-block !important;position: relative;}#sk-container-id-1 div.sk-text-repr-fallback {display: none;}</style><div id=\"sk-container-id-1\" class=\"sk-top-container\"><div class=\"sk-text-repr-fallback\"><pre>KElbowVisualizer(ax=&lt;Axes: &gt;,\n",
       "                 estimator=KMeans(n_clusters=14, n_init=&#x27;auto&#x27;,\n",
       "                                  random_state=42),\n",
       "                 k=(2, 15))</pre><b>In a Jupyter environment, please rerun this cell to show the HTML representation or trust the notebook. <br />On GitHub, the HTML representation is unable to render, please try loading this page with nbviewer.org.</b></div><div class=\"sk-container\" hidden><div class=\"sk-item sk-dashed-wrapped\"><div class=\"sk-label-container\"><div class=\"sk-label sk-toggleable\"><input class=\"sk-toggleable__control sk-hidden--visually\" id=\"sk-estimator-id-1\" type=\"checkbox\" ><label for=\"sk-estimator-id-1\" class=\"sk-toggleable__label sk-toggleable__label-arrow\">KElbowVisualizer</label><div class=\"sk-toggleable__content\"><pre>KElbowVisualizer(ax=&lt;Axes: &gt;,\n",
       "                 estimator=KMeans(n_clusters=14, n_init=&#x27;auto&#x27;,\n",
       "                                  random_state=42),\n",
       "                 k=(2, 15))</pre></div></div></div><div class=\"sk-parallel\"><div class=\"sk-parallel-item\"><div class=\"sk-item\"><div class=\"sk-label-container\"><div class=\"sk-label sk-toggleable\"><input class=\"sk-toggleable__control sk-hidden--visually\" id=\"sk-estimator-id-2\" type=\"checkbox\" ><label for=\"sk-estimator-id-2\" class=\"sk-toggleable__label sk-toggleable__label-arrow\">estimator: KMeans</label><div class=\"sk-toggleable__content\"><pre>KMeans(n_clusters=14, n_init=&#x27;auto&#x27;, random_state=42)</pre></div></div></div><div class=\"sk-serial\"><div class=\"sk-item\"><div class=\"sk-estimator sk-toggleable\"><input class=\"sk-toggleable__control sk-hidden--visually\" id=\"sk-estimator-id-3\" type=\"checkbox\" ><label for=\"sk-estimator-id-3\" class=\"sk-toggleable__label sk-toggleable__label-arrow\">KMeans</label><div class=\"sk-toggleable__content\"><pre>KMeans(n_clusters=14, n_init=&#x27;auto&#x27;, random_state=42)</pre></div></div></div></div></div></div></div></div></div></div>"
      ],
      "text/plain": [
       "KElbowVisualizer(ax=<Axes: >,\n",
       "                 estimator=KMeans(n_clusters=14, n_init='auto',\n",
       "                                  random_state=42),\n",
       "                 k=(2, 15))"
      ]
     },
     "execution_count": 48,
     "metadata": {},
     "output_type": "execute_result"
    },
    {
     "data": {
      "image/png": "[encoded data removed]",
      "text/plain": [
       "<Figure size 800x550 with 2 Axes>"
      ]
     },
     "metadata": {},
     "output_type": "display_data"
    }
   ],
   "source": [
    "visualizer.fit(x_train)"
   ]
  },
  {
   "cell_type": "code",
   "execution_count": 50,
   "metadata": {},
   "outputs": [
    {
     "name": "stdout",
     "output_type": "stream",
     "text": [
      "5\n"
     ]
    }
   ],
   "source": [
    "total_clusters = visualizer.elbow_value_\n",
    "print(total_clusters)"
   ]
  },
  {
   "cell_type": "code",
   "execution_count": 52,
   "metadata": {},
   "outputs": [
    {
     "name": "stderr",
     "output_type": "stream",
     "text": [
      "c:\\project\\credit_card_fault\\env\\lib\\site-packages\\sklearn\\cluster\\_kmeans.py:870: FutureWarning: The default value of `n_init` will change from 10 to 'auto' in 1.4. Set the value of `n_init` explicitly to suppress the warning\n",
      "  warnings.warn(\n"
     ]
    },
    {
     "data": {
      "text/html": [
       "<style>#sk-container-id-2 {color: black;background-color: white;}#sk-container-id-2 pre{padding: 0;}#sk-container-id-2 div.sk-toggleable {background-color: white;}#sk-container-id-2 label.sk-toggleable__label {cursor: pointer;display: block;width: 100%;margin-bottom: 0;padding: 0.3em;box-sizing: border-box;text-align: center;}#sk-container-id-2 label.sk-toggleable__label-arrow:before {content: \"▸\";float: left;margin-right: 0.25em;color: #696969;}#sk-container-id-2 label.sk-toggleable__label-arrow:hover:before {color: black;}#sk-container-id-2 div.sk-estimator:hover label.sk-toggleable__label-arrow:before {color: black;}#sk-container-id-2 div.sk-toggleable__content {max-height: 0;max-width: 0;overflow: hidden;text-align: left;background-color: #f0f8ff;}#sk-container-id-2 div.sk-toggleable__content pre {margin: 0.2em;color: black;border-radius: 0.25em;background-color: #f0f8ff;}#sk-container-id-2 input.sk-toggleable__control:checked~div.sk-toggleable__content {max-height: 200px;max-width: 100%;overflow: auto;}#sk-container-id-2 input.sk-toggleable__control:checked~label.sk-toggleable__label-arrow:before {content: \"▾\";}#sk-container-id-2 div.sk-estimator input.sk-toggleable__control:checked~label.sk-toggleable__label {background-color: #d4ebff;}#sk-container-id-2 div.sk-label input.sk-toggleable__control:checked~label.sk-toggleable__label {background-color: #d4ebff;}#sk-container-id-2 input.sk-hidden--visually {border: 0;clip: rect(1px 1px 1px 1px);clip: rect(1px, 1px, 1px, 1px);height: 1px;margin: -1px;overflow: hidden;padding: 0;position: absolute;width: 1px;}#sk-container-id-2 div.sk-estimator {font-family: monospace;background-color: #f0f8ff;border: 1px dotted black;border-radius: 0.25em;box-sizing: border-box;margin-bottom: 0.5em;}#sk-container-id-2 div.sk-estimator:hover {background-color: #d4ebff;}#sk-container-id-2 div.sk-parallel-item::after {content: \"\";width: 100%;border-bottom: 1px solid gray;flex-grow: 1;}#sk-container-id-2 div.sk-label:hover label.sk-toggleable__label {background-color: #d4ebff;}#sk-container-id-2 div.sk-serial::before {content: \"\";position: absolute;border-left: 1px solid gray;box-sizing: border-box;top: 0;bottom: 0;left: 50%;z-index: 0;}#sk-container-id-2 div.sk-serial {display: flex;flex-direction: column;align-items: center;background-color: white;padding-right: 0.2em;padding-left: 0.2em;position: relative;}#sk-container-id-2 div.sk-item {position: relative;z-index: 1;}#sk-container-id-2 div.sk-parallel {display: flex;align-items: stretch;justify-content: center;background-color: white;position: relative;}#sk-container-id-2 div.sk-item::before, #sk-container-id-2 div.sk-parallel-item::before {content: \"\";position: absolute;border-left: 1px solid gray;box-sizing: border-box;top: 0;bottom: 0;left: 50%;z-index: -1;}#sk-container-id-2 div.sk-parallel-item {display: flex;flex-direction: column;z-index: 1;position: relative;background-color: white;}#sk-container-id-2 div.sk-parallel-item:first-child::after {align-self: flex-end;width: 50%;}#sk-container-id-2 div.sk-parallel-item:last-child::after {align-self: flex-start;width: 50%;}#sk-container-id-2 div.sk-parallel-item:only-child::after {width: 0;}#sk-container-id-2 div.sk-dashed-wrapped {border: 1px dashed gray;margin: 0 0.4em 0.5em 0.4em;box-sizing: border-box;padding-bottom: 0.4em;background-color: white;}#sk-container-id-2 div.sk-label label {font-family: monospace;font-weight: bold;display: inline-block;line-height: 1.2em;}#sk-container-id-2 div.sk-label-container {text-align: center;}#sk-container-id-2 div.sk-container {/* jupyter's `normalize.less` sets `[hidden] { display: none; }` but bootstrap.min.css set `[hidden] { display: none !important; }` so we also need the `!important` here to be able to override the default hidden behavior on the sphinx rendered scikit-learn.org. See: https://github.com/scikit-learn/scikit-learn/issues/21755 */display: inline-block !important;position: relative;}#sk-container-id-2 div.sk-text-repr-fallback {display: none;}</style><div id=\"sk-container-id-2\" class=\"sk-top-container\"><div class=\"sk-text-repr-fallback\"><pre>KMeans(n_clusters=5, random_state=42)</pre><b>In a Jupyter environment, please rerun this cell to show the HTML representation or trust the notebook. <br />On GitHub, the HTML representation is unable to render, please try loading this page with nbviewer.org.</b></div><div class=\"sk-container\" hidden><div class=\"sk-item\"><div class=\"sk-estimator sk-toggleable\"><input class=\"sk-toggleable__control sk-hidden--visually\" id=\"sk-estimator-id-4\" type=\"checkbox\" checked><label for=\"sk-estimator-id-4\" class=\"sk-toggleable__label sk-toggleable__label-arrow\">KMeans</label><div class=\"sk-toggleable__content\"><pre>KMeans(n_clusters=5, random_state=42)</pre></div></div></div></div></div>"
      ],
      "text/plain": [
       "KMeans(n_clusters=5, random_state=42)"
      ]
     },
     "execution_count": 52,
     "metadata": {},
     "output_type": "execute_result"
    }
   ],
   "source": [
    "cluster = KMeans(n_clusters=total_clusters,init='k-means++',random_state=42)\n",
    "cluster.fit(x_train)"
   ]
  },
  {
   "cell_type": "code",
   "execution_count": 53,
   "metadata": {},
   "outputs": [
    {
     "name": "stderr",
     "output_type": "stream",
     "text": [
      "2023-04-25 11:05:51.344 | INFO     | creditcard.utils.common:read_yaml:34 - yaml file: c:\\project\\credit_card_fault\\configs\\feature_generator.yaml loaded successfully\n"
     ]
    }
   ],
   "source": [
    "feature_generator_config=read_yaml(Path(FEATURE_GENERATOR_FILE_PATH))"
   ]
  },
  {
   "cell_type": "code",
   "execution_count": 54,
   "metadata": {},
   "outputs": [
    {
     "data": {
      "text/plain": [
       "dict_keys(['pay_x', 'bill_amt', 'pay_amt', 'Age', 'limit'])"
      ]
     },
     "execution_count": 54,
     "metadata": {},
     "output_type": "execute_result"
    }
   ],
   "source": [
    "feature_generator_config.keys()"
   ]
  },
  {
   "cell_type": "code",
   "execution_count": 66,
   "metadata": {},
   "outputs": [
    {
     "name": "stdout",
     "output_type": "stream",
     "text": [
      "pay_x\n",
      "{'columns': ['PAY_0', 'PAY_2', 'PAY_3', 'PAY_4', 'PAY_5', 'PAY_6'], 'lower_bound': -2, 'upper_bound': 4}\n",
      "bill_amt\n",
      "{'columns': ['BILL_AMT1', 'BILL_AMT2', 'BILL_AMT3', 'BILL_AMT4', 'BILL_AMT5', 'BILL_AMT6'], 'bins': [-350000, -1, 0, 25000, 75000, 200000, 2000000], 'lower_bound': -350000, 'upper_bound': 2000000}\n",
      "pay_amt\n",
      "{'columns': ['PAY_AMT1', 'PAY_AMT2', 'PAY_AMT3', 'PAY_AMT4', 'PAY_AMT5', 'PAY_AMT6'], 'bins': [-1, 0, 25000, 50000, 100000, 2000000], 'lower_bound': -1, 'upper_bound': 2000000}\n",
      "Age\n",
      "{'columns': ['AGE'], 'bins': [20, 25, 30, 35, 40, 50, 60, 80], 'lower_bound': 20, 'upper_bound': 80}\n",
      "limit\n",
      "{'columns': ['LIMIT_BAL'], 'bins': [5000, 50000, 100000, 150000, 200000, 300000, 400000, 500000, 1100000], 'lower_bound': 5000, 'upper_bound': 1100000}\n"
     ]
    }
   ],
   "source": [
    "for master in feature_generator_config.keys():\n",
    "    print(master)\n",
    "    master_data = feature_generator_config[master]\n",
    "    print(master_data)\n"
   ]
  },
  {
   "cell_type": "code",
   "execution_count": 68,
   "metadata": {},
   "outputs": [
    {
     "data": {
      "text/plain": [
       "BoxList(['LIMIT_BAL'])"
      ]
     },
     "execution_count": 68,
     "metadata": {},
     "output_type": "execute_result"
    }
   ],
   "source": [
    "master_data.columns"
   ]
  },
  {
   "cell_type": "code",
   "execution_count": 55,
   "metadata": {},
   "outputs": [
    {
     "name": "stdout",
     "output_type": "stream",
     "text": [
      "{'columns': ['PAY_0', 'PAY_2', 'PAY_3', 'PAY_4', 'PAY_5', 'PAY_6'], 'lower_bound': -2, 'upper_bound': 4}\n",
      "{'columns': ['BILL_AMT1', 'BILL_AMT2', 'BILL_AMT3', 'BILL_AMT4', 'BILL_AMT5', 'BILL_AMT6'], 'bins': [-350000, -1, 0, 25000, 75000, 200000, 2000000], 'lower_bound': -350000, 'upper_bound': 2000000}\n",
      "{'columns': ['PAY_AMT1', 'PAY_AMT2', 'PAY_AMT3', 'PAY_AMT4', 'PAY_AMT5', 'PAY_AMT6'], 'bins': [-1, 0, 25000, 50000, 100000, 2000000], 'lower_bound': -1, 'upper_bound': 2000000}\n",
      "{'columns': ['AGE'], 'bins': [20, 25, 30, 35, 40, 50, 60, 80], 'lower_bound': 20, 'upper_bound': 80}\n",
      "{'columns': ['LIMIT_BAL'], 'bins': [5000, 50000, 100000, 150000, 200000, 300000, 400000, 500000, 1100000], 'lower_bound': 5000, 'upper_bound': 1100000}\n"
     ]
    }
   ],
   "source": [
    "for master in feature_generator_config.keys():\n",
    "    master_data = feature_generator_config[master]\n",
    "    print(master_data)"
   ]
  },
  {
   "cell_type": "code",
   "execution_count": 59,
   "metadata": {},
   "outputs": [],
   "source": [
    "data = feature_generator_config"
   ]
  },
  {
   "cell_type": "code",
   "execution_count": 60,
   "metadata": {},
   "outputs": [],
   "source": [
    "data_generated = data.copy()"
   ]
  },
  {
   "cell_type": "code",
   "execution_count": 78,
   "metadata": {},
   "outputs": [
    {
     "data": {
      "text/plain": [
       "ConfigBox({'pay_x': {'columns': ['PAY_0', 'PAY_2', 'PAY_3', 'PAY_4', 'PAY_5', 'PAY_6'], 'lower_bound': -2, 'upper_bound': 4}, 'bill_amt': {'columns': ['BILL_AMT1', 'BILL_AMT2', 'BILL_AMT3', 'BILL_AMT4', 'BILL_AMT5', 'BILL_AMT6'], 'bins': [-350000, -1, 0, 25000, 75000, 200000, 2000000], 'lower_bound': -350000, 'upper_bound': 2000000}, 'pay_amt': {'columns': ['PAY_AMT1', 'PAY_AMT2', 'PAY_AMT3', 'PAY_AMT4', 'PAY_AMT5', 'PAY_AMT6'], 'bins': [-1, 0, 25000, 50000, 100000, 2000000], 'lower_bound': -1, 'upper_bound': 2000000}, 'Age': {'columns': ['AGE'], 'bins': [20, 25, 30, 35, 40, 50, 60, 80], 'lower_bound': 20, 'upper_bound': 80}, 'limit': {'columns': ['LIMIT_BAL'], 'bins': [5000, 50000, 100000, 150000, 200000, 300000, 400000, 500000, 1100000], 'lower_bound': 5000, 'upper_bound': 1100000}})"
      ]
     },
     "execution_count": 78,
     "metadata": {},
     "output_type": "execute_result"
    }
   ],
   "source": [
    "data_generated"
   ]
  },
  {
   "cell_type": "code",
   "execution_count": null,
   "metadata": {},
   "outputs": [],
   "source": [
    "data_generated = data.copy()\n",
    "        import pandas\n",
    "        \n",
    "        for master in feature_generator_config.keys():\n",
    "            master_data = feature_generator_config[master]\n",
    "            for column in master_data.columns:\n",
    "                data_generated[column] = data[column].clip(lower=master_data.lower_bound, upper=master_data.upper_bound)\n",
    "                if master != \"pay_x\":\n",
    "                    data_generated[column] = pandas.cut(data_generated[column], bins=master_data.bins)"
   ]
  },
  {
   "cell_type": "code",
   "execution_count": 79,
   "metadata": {},
   "outputs": [],
   "source": [
    "data = x_train.copy()"
   ]
  },
  {
   "cell_type": "code",
   "execution_count": 80,
   "metadata": {},
   "outputs": [],
   "source": [
    "data_generated = data.copy()"
   ]
  },
  {
   "cell_type": "code",
   "execution_count": 85,
   "metadata": {},
   "outputs": [
    {
     "data": {
      "text/html": [
       "<div>\n",
       "<style scoped>\n",
       "    .dataframe tbody tr th:only-of-type {\n",
       "        vertical-align: middle;\n",
       "    }\n",
       "\n",
       "    .dataframe tbody tr th {\n",
       "        vertical-align: top;\n",
       "    }\n",
       "\n",
       "    .dataframe thead th {\n",
       "        text-align: right;\n",
       "    }\n",
       "</style>\n",
       "<table border=\"1\" class=\"dataframe\">\n",
       "  <thead>\n",
       "    <tr style=\"text-align: right;\">\n",
       "      <th></th>\n",
       "      <th>LIMIT_BAL</th>\n",
       "      <th>SEX</th>\n",
       "      <th>EDUCATION</th>\n",
       "      <th>MARRIAGE</th>\n",
       "      <th>AGE</th>\n",
       "      <th>PAY_0</th>\n",
       "      <th>PAY_2</th>\n",
       "      <th>PAY_3</th>\n",
       "      <th>PAY_4</th>\n",
       "      <th>PAY_5</th>\n",
       "      <th>...</th>\n",
       "      <th>BILL_AMT3</th>\n",
       "      <th>BILL_AMT4</th>\n",
       "      <th>BILL_AMT5</th>\n",
       "      <th>BILL_AMT6</th>\n",
       "      <th>PAY_AMT1</th>\n",
       "      <th>PAY_AMT2</th>\n",
       "      <th>PAY_AMT3</th>\n",
       "      <th>PAY_AMT4</th>\n",
       "      <th>PAY_AMT5</th>\n",
       "      <th>PAY_AMT6</th>\n",
       "    </tr>\n",
       "  </thead>\n",
       "  <tbody>\n",
       "    <tr>\n",
       "      <th>0</th>\n",
       "      <td>80000.0</td>\n",
       "      <td>2</td>\n",
       "      <td>3</td>\n",
       "      <td>1</td>\n",
       "      <td>41</td>\n",
       "      <td>2</td>\n",
       "      <td>2</td>\n",
       "      <td>2</td>\n",
       "      <td>2</td>\n",
       "      <td>2</td>\n",
       "      <td>...</td>\n",
       "      <td>60313.0</td>\n",
       "      <td>61129.0</td>\n",
       "      <td>62348.0</td>\n",
       "      <td>61193.0</td>\n",
       "      <td>0.0</td>\n",
       "      <td>5000.0</td>\n",
       "      <td>2400.0</td>\n",
       "      <td>2341.0</td>\n",
       "      <td>0.0</td>\n",
       "      <td>2439.0</td>\n",
       "    </tr>\n",
       "    <tr>\n",
       "      <th>1</th>\n",
       "      <td>50000.0</td>\n",
       "      <td>1</td>\n",
       "      <td>1</td>\n",
       "      <td>2</td>\n",
       "      <td>25</td>\n",
       "      <td>0</td>\n",
       "      <td>0</td>\n",
       "      <td>0</td>\n",
       "      <td>2</td>\n",
       "      <td>2</td>\n",
       "      <td>...</td>\n",
       "      <td>47613.0</td>\n",
       "      <td>48174.0</td>\n",
       "      <td>48731.0</td>\n",
       "      <td>49655.0</td>\n",
       "      <td>4000.0</td>\n",
       "      <td>4000.0</td>\n",
       "      <td>2000.0</td>\n",
       "      <td>2000.0</td>\n",
       "      <td>2200.0</td>\n",
       "      <td>1700.0</td>\n",
       "    </tr>\n",
       "    <tr>\n",
       "      <th>2</th>\n",
       "      <td>20000.0</td>\n",
       "      <td>1</td>\n",
       "      <td>1</td>\n",
       "      <td>2</td>\n",
       "      <td>30</td>\n",
       "      <td>0</td>\n",
       "      <td>0</td>\n",
       "      <td>2</td>\n",
       "      <td>0</td>\n",
       "      <td>0</td>\n",
       "      <td>...</td>\n",
       "      <td>19995.0</td>\n",
       "      <td>19391.0</td>\n",
       "      <td>19120.0</td>\n",
       "      <td>19158.0</td>\n",
       "      <td>6500.0</td>\n",
       "      <td>84.0</td>\n",
       "      <td>7171.0</td>\n",
       "      <td>1000.0</td>\n",
       "      <td>1000.0</td>\n",
       "      <td>2000.0</td>\n",
       "    </tr>\n",
       "    <tr>\n",
       "      <th>3</th>\n",
       "      <td>70000.0</td>\n",
       "      <td>2</td>\n",
       "      <td>2</td>\n",
       "      <td>2</td>\n",
       "      <td>24</td>\n",
       "      <td>0</td>\n",
       "      <td>0</td>\n",
       "      <td>0</td>\n",
       "      <td>0</td>\n",
       "      <td>0</td>\n",
       "      <td>...</td>\n",
       "      <td>69390.0</td>\n",
       "      <td>64457.0</td>\n",
       "      <td>66021.0</td>\n",
       "      <td>67267.0</td>\n",
       "      <td>3167.0</td>\n",
       "      <td>2521.0</td>\n",
       "      <td>2400.0</td>\n",
       "      <td>2600.0</td>\n",
       "      <td>2614.0</td>\n",
       "      <td>2376.0</td>\n",
       "    </tr>\n",
       "    <tr>\n",
       "      <th>4</th>\n",
       "      <td>210000.0</td>\n",
       "      <td>2</td>\n",
       "      <td>3</td>\n",
       "      <td>1</td>\n",
       "      <td>41</td>\n",
       "      <td>0</td>\n",
       "      <td>0</td>\n",
       "      <td>-1</td>\n",
       "      <td>-1</td>\n",
       "      <td>-2</td>\n",
       "      <td>...</td>\n",
       "      <td>364.0</td>\n",
       "      <td>-649.0</td>\n",
       "      <td>-649.0</td>\n",
       "      <td>-649.0</td>\n",
       "      <td>2000.0</td>\n",
       "      <td>17864.0</td>\n",
       "      <td>569.0</td>\n",
       "      <td>0.0</td>\n",
       "      <td>0.0</td>\n",
       "      <td>1000.0</td>\n",
       "    </tr>\n",
       "    <tr>\n",
       "      <th>...</th>\n",
       "      <td>...</td>\n",
       "      <td>...</td>\n",
       "      <td>...</td>\n",
       "      <td>...</td>\n",
       "      <td>...</td>\n",
       "      <td>...</td>\n",
       "      <td>...</td>\n",
       "      <td>...</td>\n",
       "      <td>...</td>\n",
       "      <td>...</td>\n",
       "      <td>...</td>\n",
       "      <td>...</td>\n",
       "      <td>...</td>\n",
       "      <td>...</td>\n",
       "      <td>...</td>\n",
       "      <td>...</td>\n",
       "      <td>...</td>\n",
       "      <td>...</td>\n",
       "      <td>...</td>\n",
       "      <td>...</td>\n",
       "      <td>...</td>\n",
       "    </tr>\n",
       "    <tr>\n",
       "      <th>23995</th>\n",
       "      <td>140000.0</td>\n",
       "      <td>2</td>\n",
       "      <td>2</td>\n",
       "      <td>2</td>\n",
       "      <td>23</td>\n",
       "      <td>0</td>\n",
       "      <td>0</td>\n",
       "      <td>0</td>\n",
       "      <td>0</td>\n",
       "      <td>0</td>\n",
       "      <td>...</td>\n",
       "      <td>44739.0</td>\n",
       "      <td>43455.0</td>\n",
       "      <td>43980.0</td>\n",
       "      <td>44614.0</td>\n",
       "      <td>2100.0</td>\n",
       "      <td>2027.0</td>\n",
       "      <td>1800.0</td>\n",
       "      <td>1600.0</td>\n",
       "      <td>1750.0</td>\n",
       "      <td>1700.0</td>\n",
       "    </tr>\n",
       "    <tr>\n",
       "      <th>23996</th>\n",
       "      <td>170000.0</td>\n",
       "      <td>2</td>\n",
       "      <td>1</td>\n",
       "      <td>2</td>\n",
       "      <td>27</td>\n",
       "      <td>-1</td>\n",
       "      <td>0</td>\n",
       "      <td>0</td>\n",
       "      <td>0</td>\n",
       "      <td>0</td>\n",
       "      <td>...</td>\n",
       "      <td>39698.0</td>\n",
       "      <td>38330.0</td>\n",
       "      <td>39602.0</td>\n",
       "      <td>39922.0</td>\n",
       "      <td>1650.0</td>\n",
       "      <td>4500.0</td>\n",
       "      <td>4000.0</td>\n",
       "      <td>4000.0</td>\n",
       "      <td>3000.0</td>\n",
       "      <td>3000.0</td>\n",
       "    </tr>\n",
       "    <tr>\n",
       "      <th>23997</th>\n",
       "      <td>500000.0</td>\n",
       "      <td>2</td>\n",
       "      <td>1</td>\n",
       "      <td>2</td>\n",
       "      <td>37</td>\n",
       "      <td>-1</td>\n",
       "      <td>-1</td>\n",
       "      <td>-1</td>\n",
       "      <td>-1</td>\n",
       "      <td>-1</td>\n",
       "      <td>...</td>\n",
       "      <td>517.0</td>\n",
       "      <td>0.0</td>\n",
       "      <td>1450.0</td>\n",
       "      <td>2668.0</td>\n",
       "      <td>1625.0</td>\n",
       "      <td>517.0</td>\n",
       "      <td>0.0</td>\n",
       "      <td>1450.0</td>\n",
       "      <td>2668.0</td>\n",
       "      <td>1480.0</td>\n",
       "    </tr>\n",
       "    <tr>\n",
       "      <th>23998</th>\n",
       "      <td>20000.0</td>\n",
       "      <td>2</td>\n",
       "      <td>1</td>\n",
       "      <td>2</td>\n",
       "      <td>24</td>\n",
       "      <td>0</td>\n",
       "      <td>0</td>\n",
       "      <td>2</td>\n",
       "      <td>-1</td>\n",
       "      <td>-1</td>\n",
       "      <td>...</td>\n",
       "      <td>2778.0</td>\n",
       "      <td>6572.0</td>\n",
       "      <td>5016.0</td>\n",
       "      <td>2508.0</td>\n",
       "      <td>2778.0</td>\n",
       "      <td>0.0</td>\n",
       "      <td>6572.0</td>\n",
       "      <td>5016.0</td>\n",
       "      <td>0.0</td>\n",
       "      <td>0.0</td>\n",
       "    </tr>\n",
       "    <tr>\n",
       "      <th>23999</th>\n",
       "      <td>100000.0</td>\n",
       "      <td>2</td>\n",
       "      <td>1</td>\n",
       "      <td>2</td>\n",
       "      <td>32</td>\n",
       "      <td>1</td>\n",
       "      <td>-1</td>\n",
       "      <td>-1</td>\n",
       "      <td>0</td>\n",
       "      <td>-1</td>\n",
       "      <td>...</td>\n",
       "      <td>650.0</td>\n",
       "      <td>325.0</td>\n",
       "      <td>647.0</td>\n",
       "      <td>7706.0</td>\n",
       "      <td>650.0</td>\n",
       "      <td>650.0</td>\n",
       "      <td>0.0</td>\n",
       "      <td>647.0</td>\n",
       "      <td>7706.0</td>\n",
       "      <td>1679.0</td>\n",
       "    </tr>\n",
       "  </tbody>\n",
       "</table>\n",
       "<p>24000 rows × 23 columns</p>\n",
       "</div>"
      ],
      "text/plain": [
       "       LIMIT_BAL  SEX  EDUCATION  MARRIAGE  AGE  PAY_0  PAY_2  PAY_3  PAY_4  \\\n",
       "0        80000.0    2          3         1   41      2      2      2      2   \n",
       "1        50000.0    1          1         2   25      0      0      0      2   \n",
       "2        20000.0    1          1         2   30      0      0      2      0   \n",
       "3        70000.0    2          2         2   24      0      0      0      0   \n",
       "4       210000.0    2          3         1   41      0      0     -1     -1   \n",
       "...          ...  ...        ...       ...  ...    ...    ...    ...    ...   \n",
       "23995   140000.0    2          2         2   23      0      0      0      0   \n",
       "23996   170000.0    2          1         2   27     -1      0      0      0   \n",
       "23997   500000.0    2          1         2   37     -1     -1     -1     -1   \n",
       "23998    20000.0    2          1         2   24      0      0      2     -1   \n",
       "23999   100000.0    2          1         2   32      1     -1     -1      0   \n",
       "\n",
       "       PAY_5  ...  BILL_AMT3  BILL_AMT4  BILL_AMT5  BILL_AMT6  PAY_AMT1  \\\n",
       "0          2  ...    60313.0    61129.0    62348.0    61193.0       0.0   \n",
       "1          2  ...    47613.0    48174.0    48731.0    49655.0    4000.0   \n",
       "2          0  ...    19995.0    19391.0    19120.0    19158.0    6500.0   \n",
       "3          0  ...    69390.0    64457.0    66021.0    67267.0    3167.0   \n",
       "4         -2  ...      364.0     -649.0     -649.0     -649.0    2000.0   \n",
       "...      ...  ...        ...        ...        ...        ...       ...   \n",
       "23995      0  ...    44739.0    43455.0    43980.0    44614.0    2100.0   \n",
       "23996      0  ...    39698.0    38330.0    39602.0    39922.0    1650.0   \n",
       "23997     -1  ...      517.0        0.0     1450.0     2668.0    1625.0   \n",
       "23998     -1  ...     2778.0     6572.0     5016.0     2508.0    2778.0   \n",
       "23999     -1  ...      650.0      325.0      647.0     7706.0     650.0   \n",
       "\n",
       "       PAY_AMT2  PAY_AMT3  PAY_AMT4  PAY_AMT5  PAY_AMT6  \n",
       "0        5000.0    2400.0    2341.0       0.0    2439.0  \n",
       "1        4000.0    2000.0    2000.0    2200.0    1700.0  \n",
       "2          84.0    7171.0    1000.0    1000.0    2000.0  \n",
       "3        2521.0    2400.0    2600.0    2614.0    2376.0  \n",
       "4       17864.0     569.0       0.0       0.0    1000.0  \n",
       "...         ...       ...       ...       ...       ...  \n",
       "23995    2027.0    1800.0    1600.0    1750.0    1700.0  \n",
       "23996    4500.0    4000.0    4000.0    3000.0    3000.0  \n",
       "23997     517.0       0.0    1450.0    2668.0    1480.0  \n",
       "23998       0.0    6572.0    5016.0       0.0       0.0  \n",
       "23999     650.0       0.0     647.0    7706.0    1679.0  \n",
       "\n",
       "[24000 rows x 23 columns]"
      ]
     },
     "execution_count": 85,
     "metadata": {},
     "output_type": "execute_result"
    }
   ],
   "source": [
    "data_generated"
   ]
  },
  {
   "cell_type": "code",
   "execution_count": 93,
   "metadata": {},
   "outputs": [
    {
     "name": "stdout",
     "output_type": "stream",
     "text": [
      "{'columns': ['PAY_0', 'PAY_2', 'PAY_3', 'PAY_4', 'PAY_5', 'PAY_6'], 'lower_bound': -2, 'upper_bound': 4}\n",
      "PAY_0\n",
      "PAY_2\n",
      "PAY_3\n",
      "PAY_4\n",
      "PAY_5\n",
      "PAY_6\n",
      "{'columns': ['BILL_AMT1', 'BILL_AMT2', 'BILL_AMT3', 'BILL_AMT4', 'BILL_AMT5', 'BILL_AMT6'], 'bins': [-350000, -1, 0, 25000, 75000, 200000, 2000000], 'lower_bound': -350000, 'upper_bound': 2000000}\n",
      "BILL_AMT1\n",
      "BILL_AMT2\n",
      "BILL_AMT3\n",
      "BILL_AMT4\n",
      "BILL_AMT5\n",
      "BILL_AMT6\n",
      "{'columns': ['PAY_AMT1', 'PAY_AMT2', 'PAY_AMT3', 'PAY_AMT4', 'PAY_AMT5', 'PAY_AMT6'], 'bins': [-1, 0, 25000, 50000, 100000, 2000000], 'lower_bound': -1, 'upper_bound': 2000000}\n",
      "PAY_AMT1\n",
      "PAY_AMT2\n",
      "PAY_AMT3\n",
      "PAY_AMT4\n",
      "PAY_AMT5\n",
      "PAY_AMT6\n",
      "{'columns': ['AGE'], 'bins': [20, 25, 30, 35, 40, 50, 60, 80], 'lower_bound': 20, 'upper_bound': 80}\n",
      "AGE\n",
      "{'columns': ['LIMIT_BAL'], 'bins': [5000, 50000, 100000, 150000, 200000, 300000, 400000, 500000, 1100000], 'lower_bound': 5000, 'upper_bound': 1100000}\n",
      "LIMIT_BAL\n"
     ]
    }
   ],
   "source": [
    "for master in feature_generator_config.keys():\n",
    "            master_data = feature_generator_config[master]\n",
    "            print(master_data)\n",
    "            for column in master_data.columns:\n",
    "                    print(column)\n",
    "                    "
   ]
  },
  {
   "cell_type": "code",
   "execution_count": 97,
   "metadata": {},
   "outputs": [],
   "source": [
    "for master in feature_generator_config.keys():\n",
    "            master_data = feature_generator_config[master]\n",
    "            for column in master_data.columns:\n",
    "                    data_generated[column] = data[column].clip(lower=master_data.lower_bound, upper=master_data.upper_bound)\n",
    "                    if master != \"pay_x\":\n",
    "                      data_generated[column] = pandas.cut(data_generated[column], bins=master_data.bins)\n",
    "\n"
   ]
  },
  {
   "cell_type": "code",
   "execution_count": 98,
   "metadata": {},
   "outputs": [],
   "source": [
    "encoder = OneHotEncoder(sparse_output=False , handle_unknown='ignore')"
   ]
  },
  {
   "cell_type": "code",
   "execution_count": 100,
   "metadata": {},
   "outputs": [
    {
     "ename": "NameError",
     "evalue": "name 'e' is not defined",
     "output_type": "error",
     "traceback": [
      "\u001b[1;31m---------------------------------------------------------------------------\u001b[0m",
      "\u001b[1;31mNameError\u001b[0m                                 Traceback (most recent call last)",
      "Cell \u001b[1;32mIn[100], line 1\u001b[0m\n\u001b[1;32m----> 1\u001b[0m e\n",
      "\u001b[1;31mNameError\u001b[0m: name 'e' is not defined"
     ]
    }
   ],
   "source": [
    "e"
   ]
  },
  {
   "cell_type": "code",
   "execution_count": null,
   "metadata": {},
   "outputs": [],
   "source": []
  }
 ],
 "metadata": {
  "kernelspec": {
   "display_name": "Python 3",
   "language": "python",
   "name": "python3"
  },
  "language_info": {
   "codemirror_mode": {
    "name": "ipython",
    "version": 3
   },
   "file_extension": ".py",
   "mimetype": "text/x-python",
   "name": "python",
   "nbconvert_exporter": "python",
   "pygments_lexer": "ipython3",
   "version": "3.8.16"
  },
  "orig_nbformat": 4
 },
 "nbformat": 4,
 "nbformat_minor": 2
}
